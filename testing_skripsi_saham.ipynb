{
  "nbformat": 4,
  "nbformat_minor": 0,
  "metadata": {
    "colab": {
      "name": "testing skripsi saham.ipynb",
      "provenance": [],
      "authorship_tag": "ABX9TyMTkqThysLbIsUBIZs5ZqCm",
      "include_colab_link": true
    },
    "kernelspec": {
      "name": "python3",
      "display_name": "Python 3"
    },
    "language_info": {
      "name": "python"
    }
  },
  "cells": [
    {
      "cell_type": "markdown",
      "metadata": {
        "id": "view-in-github",
        "colab_type": "text"
      },
      "source": [
        "<a href=\"https://colab.research.google.com/github/robbi621/skripsi/blob/main/testing_skripsi_saham.ipynb\" target=\"_parent\"><img src=\"https://colab.research.google.com/assets/colab-badge.svg\" alt=\"Open In Colab\"/></a>"
      ]
    },
    {
      "cell_type": "code",
      "execution_count": 1,
      "metadata": {
        "id": "PjOGJf42-DOt"
      },
      "outputs": [],
      "source": [
        "import datetime as dt\n",
        "import pandas as pd\n",
        "import numpy as np\n",
        "from numpy import arange\n",
        "import matplotlib.pyplot as plt\n",
        "from pandas import read_csv\n",
        "from sklearn import metrics\n",
        "from sklearn.model_selection import train_test_split\n",
        "from sklearn.ensemble import RandomForestRegressor\n",
        "from sklearn.preprocessing import StandardScaler\n",
        "from sklearn.model_selection import RandomizedSearchCV"
      ]
    },
    {
      "cell_type": "code",
      "source": [
        "!wget -O UNTR.csv https://raw.githubusercontent.com/robbi621/skripsi/main/UNTR.JK.csv"
      ],
      "metadata": {
        "colab": {
          "base_uri": "https://localhost:8080/"
        },
        "id": "Yu3K488G-rS2",
        "outputId": "aa147402-56ac-4390-8550-2ee378c58693"
      },
      "execution_count": 2,
      "outputs": [
        {
          "output_type": "stream",
          "name": "stdout",
          "text": [
            "--2022-07-17 16:37:55--  https://raw.githubusercontent.com/robbi621/skripsi/main/UNTR.JK.csv\n",
            "Resolving raw.githubusercontent.com (raw.githubusercontent.com)... 185.199.108.133, 185.199.109.133, 185.199.110.133, ...\n",
            "Connecting to raw.githubusercontent.com (raw.githubusercontent.com)|185.199.108.133|:443... connected.\n",
            "HTTP request sent, awaiting response... 200 OK\n",
            "Length: 254503 (249K) [text/plain]\n",
            "Saving to: ‘UNTR.csv’\n",
            "\n",
            "\rUNTR.csv              0%[                    ]       0  --.-KB/s               \rUNTR.csv            100%[===================>] 248.54K  --.-KB/s    in 0.03s   \n",
            "\n",
            "2022-07-17 16:37:55 (7.76 MB/s) - ‘UNTR.csv’ saved [254503/254503]\n",
            "\n"
          ]
        }
      ]
    },
    {
      "cell_type": "code",
      "source": [
        "read_df = pd.read_csv(\"UNTR.csv\")\n",
        "read_df.set_index(\"Date\", inplace=True)\n",
        "read_df['Adj Close'].plot()\n",
        "plt.ylabel(\"Adjusted Close Prices\")\n",
        "plt.show()"
      ],
      "metadata": {
        "colab": {
          "base_uri": "https://localhost:8080/",
          "height": 279
        },
        "id": "B251zWGF-gQT",
        "outputId": "0c8d55f4-fdb7-48a5-84ae-3953951c1fc2"
      },
      "execution_count": 3,
      "outputs": [
        {
          "output_type": "display_data",
          "data": {
            "text/plain": [
              "<Figure size 432x288 with 1 Axes>"
            ],
            "image/png": "[encoded data removed]"
          },
          "metadata": {
            "needs_background": "light"
          }
        }
      ]
    },
    {
      "cell_type": "code",
      "source": [
        "df = pd.read_csv(\"UNTR.csv\")\n",
        "df.set_index(\"Date\", inplace=True)\n",
        "df.dropna(inplace=True)"
      ],
      "metadata": {
        "id": "3AgTIPZSB4u9"
      },
      "execution_count": 4,
      "outputs": []
    },
    {
      "cell_type": "code",
      "source": [
        "X = df.iloc[:, 0:5].values\n",
        "y = df.iloc[:, 4].values"
      ],
      "metadata": {
        "id": "5nYJdxpTB8yY"
      },
      "execution_count": 9,
      "outputs": []
    },
    {
      "cell_type": "code",
      "source": [
        "X.shape"
      ],
      "metadata": {
        "colab": {
          "base_uri": "https://localhost:8080/"
        },
        "id": "TqP5h-J3CChu",
        "outputId": "c4b74c48-5b5d-4022-e537-1988c3b8e9d3"
      },
      "execution_count": 12,
      "outputs": [
        {
          "output_type": "execute_result",
          "data": {
            "text/plain": [
              "(3034, 5)"
            ]
          },
          "metadata": {},
          "execution_count": 12
        }
      ]
    },
    {
      "cell_type": "code",
      "source": [
        "y.shape"
      ],
      "metadata": {
        "colab": {
          "base_uri": "https://localhost:8080/"
        },
        "id": "blJyOumJCarj",
        "outputId": "b01e89e9-05e9-46b7-fa8d-4b0a25897485"
      },
      "execution_count": 14,
      "outputs": [
        {
          "output_type": "execute_result",
          "data": {
            "text/plain": [
              "(3034,)"
            ]
          },
          "metadata": {},
          "execution_count": 14
        }
      ]
    },
    {
      "cell_type": "code",
      "source": [
        "X_train, X_test, y_train, y_test = train_test_split(X, y, test_size=0.26,  random_state=0)"
      ],
      "metadata": {
        "id": "ImyeGC_ICh63"
      },
      "execution_count": 15,
      "outputs": []
    },
    {
      "cell_type": "code",
      "source": [
        "scale = StandardScaler()\n",
        "X_train = scale.fit_transform(X_train)\n",
        "X_test = scale.transform(X_test)"
      ],
      "metadata": {
        "id": "SlqScWPECmlJ"
      },
      "execution_count": 16,
      "outputs": []
    },
    {
      "cell_type": "code",
      "source": [
        "grid_rf = {\n",
        "'n_estimators': [20, 50, 100, 500, 1000],  \n",
        "'max_depth': np.arange(1, 15, 1),  \n",
        "'min_samples_split': [2, 10, 9], \n",
        "'min_samples_leaf': np.arange(1, 15, 2, dtype=int),  \n",
        "'bootstrap': [True, False], \n",
        "'random_state': [1, 2, 30, 42]\n",
        "}\n",
        "rscv = RandomizedSearchCV(estimator=model, param_distributions=grid_rf, cv=3, n_jobs=-1, verbose=2, n_iter=200)\n",
        "rscv_fit = rscv.fit(X_train, y_train)\n",
        "best_parameters = rscv_fit.best_params_\n",
        "print(best_parameters)"
      ],
      "metadata": {
        "colab": {
          "base_uri": "https://localhost:8080/"
        },
        "id": "S2n5lXg5CyeA",
        "outputId": "48a3750c-1178-44de-f854-b4ce9d83ac07"
      },
      "execution_count": 20,
      "outputs": [
        {
          "output_type": "stream",
          "name": "stdout",
          "text": [
            "Fitting 3 folds for each of 200 candidates, totalling 600 fits\n",
            "{'random_state': 1, 'n_estimators': 1000, 'min_samples_split': 2, 'min_samples_leaf': 1, 'max_depth': 10, 'bootstrap': True}\n"
          ]
        }
      ]
    },
    {
      "cell_type": "code",
      "source": [
        "model = RandomForestRegressor(n_estimators=500, random_state=42, min_samples_split=2, min_samples_leaf=1, max_depth=10, bootstrap=True)\n",
        "model.fit(X_train, y_train)\n",
        "predict = model.predict(X_test)\n",
        "print(predict)\n",
        "print(predict.shape)"
      ],
      "metadata": {
        "colab": {
          "base_uri": "https://localhost:8080/"
        },
        "id": "Ch3_7vQTDCyr",
        "outputId": "37e93cda-20ac-45b6-ac4f-113213fd9724"
      },
      "execution_count": 21,
      "outputs": [
        {
          "output_type": "stream",
          "name": "stdout",
          "text": [
            "[16828.60556401 23620.90244972 19760.84347298 13492.35555282\n",
            " 19711.50607512 18120.67349343 12425.63472648 28681.95234681\n",
            " 14808.15608621 21582.9488131  12906.94411174 12318.94287076\n",
            " 19638.63851198 14213.68270911 17458.07258391 21858.67865146\n",
            " 22026.55037922 10173.15636849 20129.43140759 26942.38411677\n",
            " 22268.17416893 13781.40558096 14182.09037378 14992.93106441\n",
            " 15024.2092417  30231.09912004 14998.18537174 19761.76415632\n",
            " 13721.19495145 24632.00021884 22115.91208295 21473.53502014\n",
            " 15041.98963553 15499.60887317 15357.02980442 14139.68798284\n",
            " 18216.63956293 27528.22841572 11723.85049321 11131.35882058\n",
            " 19760.15354999 29773.5849651  20327.50311947 20807.83180731\n",
            " 13328.87266748 19283.76094515 26859.06461172 19246.60204007\n",
            " 14603.65190833 14295.43615381 15552.56252922 24627.73678691\n",
            " 14073.28719648 13755.15349622 18930.2804123  11935.21735289\n",
            " 14029.55234979 13277.80081919 23587.55595097 18466.55940899\n",
            " 22440.93413768 12215.41661477 11180.41798782 15484.61028063\n",
            " 13966.7737152  14061.9299398  17617.45748094 22762.14700657\n",
            " 10974.40508083 18712.79043232 19677.14877691 19085.92208357\n",
            " 20808.13367059  9722.14622878 18660.42223506 24182.26563126\n",
            " 17928.97966534 20921.92594983 15190.0917506  15001.30524365\n",
            " 14435.16447816 10319.96740905 13872.79709419 13806.40905287\n",
            " 30002.9879063  14102.05359243 15441.10914391 13941.58122642\n",
            " 13079.34032743 12843.39506685 13401.87261172 13548.097756\n",
            " 18088.79537673 23206.77268945 22329.19742203 13533.59715889\n",
            " 21514.08263604 15314.53793055 15089.64063337 15313.84062271\n",
            " 12849.73485885 16225.4313333  19541.53244123 13639.981265\n",
            " 14886.20109079 13385.26947913 13277.5533781  13840.4102129\n",
            " 11450.83119674 13076.5994119  13914.53039478 11379.69473011\n",
            " 27079.30053939 20520.79610192 13317.76698916 19714.5274915\n",
            " 13140.58921439 16375.30479716 15448.38556638 13872.79709419\n",
            " 16001.37711914 14809.72137283 16190.47314653 28109.10324598\n",
            " 13118.91075199 16145.7129048  16400.16088671 19137.8330778\n",
            "  9753.64540642 12733.75775225 16946.26934869 24472.11888293\n",
            " 20753.28393957 26944.03713936 13042.47869884 18121.28578064\n",
            " 27156.01032488 11512.93343896 18640.003254   14993.24714991\n",
            " 10905.53981149 11790.02120497 14464.22190694 11620.11040457\n",
            " 18923.22944916 16513.76186425 19851.46507019 23880.19622674\n",
            " 10919.32555751 15882.3184547  18470.7261008  13904.05015873\n",
            " 30372.69739016 14925.42023315 14437.18595922 13741.89307466\n",
            " 20270.66852006 18537.93735641 26716.2964295  13409.05357194\n",
            " 15551.42434559 21599.86862418 22080.18881029 20476.40331282\n",
            " 23453.84257001 12838.56862365 14593.1846772  19611.41126239\n",
            " 27152.24821878 26677.54134639 11546.0066481  26595.4995985\n",
            " 27996.34546673 17750.05084042 21662.99843941 15773.86687367\n",
            " 27944.68565166 13505.43148749 23248.46500773 29035.49330331\n",
            " 16273.42866262 21331.7997061  21055.13775433 10598.44207332\n",
            " 24551.45595694 13433.21674717 17561.91943204 23462.28119593\n",
            " 13165.49478401 24099.99459163 21642.92047978 19153.92742643\n",
            " 14181.6665237  12404.96151257 26266.52373473 10453.81253326\n",
            " 15471.72250871 18906.49563166 13113.39244675 12357.97732016\n",
            " 17327.50825612 13347.52110163 18313.32559493 23744.14566886\n",
            " 19641.56488199 13076.78069772 22563.78806698 18708.41627726\n",
            " 21984.15224201 11983.21147533 12943.99628799 19381.86804873\n",
            " 13451.72777519 16475.72333359 12699.63284172 21466.30962574\n",
            " 15207.3104958  18505.52723758 21096.2916877  14739.12399538\n",
            " 15091.38546113 16008.78867529 15875.71210522 22339.02022143\n",
            "  9729.4574202  13705.04181745 22785.38941507 15770.00902054\n",
            " 13278.27673819 15484.6944735  13585.34935513 13346.55207212\n",
            " 12429.7502367  17890.72840781 14925.44244811 13585.46683465\n",
            " 15627.77281786 18653.21851694 20746.73211641 16938.63012894\n",
            " 12479.13578924 14512.16714327 14250.34275768 15059.01451104\n",
            " 24416.12656771 23209.71495881 21170.53328061 21762.79919471\n",
            " 13969.55828413 19943.21239745 11656.64480185 13019.23247041\n",
            " 28793.74927201 24129.95871359 13969.55828413 12334.17299347\n",
            " 15228.76348382 19611.20601083 13757.70556809 15125.01113899\n",
            " 14062.42355623 27072.09948    22699.42038264 14464.55234539\n",
            " 12699.90961906 11821.77516471 18446.9247834  17799.36852654\n",
            " 21473.73787694 15743.40481288 24378.84547249 21347.92923591\n",
            " 18930.53378144 18040.00014666 12644.87514172 18188.22605517\n",
            " 20461.31349042 23281.29165107 12808.70321614 27365.31904863\n",
            " 15605.64282624 22338.8998063  13076.80369901 23669.87842889\n",
            " 21598.04261818 13718.3751152  19843.35440508 14247.31762007\n",
            " 23621.34768995 14029.67527166 12125.54094213 29197.7642211\n",
            " 10052.5302644  11918.20058203 13910.82460505 13144.82731911\n",
            " 16401.39397681 26840.12028322 13386.89559386 11545.99923299\n",
            " 23896.57430757 16473.89723833 21310.14430085 22298.5865049\n",
            " 15712.13984044 12603.76423703 21242.27598611 26419.68295999\n",
            " 18283.05698213 14776.05109077 30918.72321621 11378.83501289\n",
            " 22252.23950227 12682.38120556 23223.36335809 14517.74952136\n",
            " 17317.18130832 15312.4395825  21561.11326951 12446.61700289\n",
            " 19784.08126298 22147.12344454 15357.82113601 12982.08276343\n",
            " 19773.29657021 12074.7494086  16798.64935252 11750.14201516\n",
            " 16364.2044796  12733.44195662 11620.11040457 14310.99931498\n",
            " 16293.78172255 18433.19082895 30547.48247739 14248.68406675\n",
            " 16400.16088671 15558.84247753 21960.21982438 16107.75826566\n",
            " 27656.91141447 24904.00544555 13409.05357194 15058.87491883\n",
            " 21710.90510627 21866.91256579 17997.88915726 15621.58994918\n",
            " 14620.16989869 13963.71404071 13276.76984289 12714.58348497\n",
            " 14569.72931061 22730.97025991 10530.24572346 16066.13738061\n",
            " 15856.23255917 11813.36685183 29491.49458821 22717.69338667\n",
            " 17835.56138893 20270.60975056 12068.94309948 25098.2874404\n",
            " 13755.24876448 27174.12496767 19548.8519704  13384.24391754\n",
            " 16937.3707619  20507.78691094 24881.92630229 18017.76033515\n",
            " 11724.83699515 22638.51380693 22701.75492428 16596.56767322\n",
            " 13716.43267858 27925.19003153 12338.95423678 13210.4038637\n",
            " 13802.30338432 12906.88732221 20704.39330072 13713.85274249\n",
            " 28110.08264442 11877.21989729 21641.8718802  21278.4878592\n",
            " 12479.30625256 12872.17156546 20083.42584348 13409.01640983\n",
            " 15979.06750997 13433.35110866 11657.37091829 21253.78411508\n",
            " 19145.66382419 13487.10326184 21696.35383971 21321.27805595\n",
            " 11810.81922456 14299.20946327 14997.89672273 26268.38068193\n",
            " 11579.96750336 12804.47228413 13839.92392874 27140.38198819\n",
            " 17623.51307504 19194.98815214 21687.76715589 21056.78476119\n",
            " 14435.20798751 18831.23385228 14593.17790617 15293.49061526\n",
            " 13278.15239042 19453.0400383  13029.48983991 13968.43926597\n",
            " 20070.18348704 24261.53281462 15207.3154958  12342.68709526\n",
            " 18863.87694312 21499.14044708 24823.14504796 16655.46478673\n",
            " 27667.46671843 11901.07282291 12342.51766666 17109.51462482\n",
            " 24759.45344345 24542.81273396 13806.24625902 15751.26672557\n",
            " 23028.50869224 19759.5845898  14213.94357947 14653.15602947\n",
            " 15863.23341202 21522.67043972 13643.77903194 12698.96773966\n",
            " 14619.41965047 16575.42846907 12198.17818139 16833.85460773\n",
            " 13551.55844154 15130.94237449 24908.01415982 24340.38996468\n",
            " 28110.08264442 11165.47131158 21127.15676732 17693.88968454\n",
            " 21317.69509581 27511.55844699 11357.91712899 20675.61850471\n",
            " 13874.45064231 12425.55689177 16684.62749596 15095.5400912\n",
            " 16833.89592022 18120.50670437 17188.02594715 15611.13532742\n",
            " 24079.7125981  24342.42785154 19216.29654535 16488.69138272\n",
            " 20840.21616658 11784.96363732 11656.04065643 26249.61603162\n",
            " 16068.6511394  20351.58253182 28657.74856653 14168.73598269\n",
            " 23622.41521339 20771.95541619 19839.20490114 21385.77484903\n",
            " 19574.36192168 14593.18150773 14249.36609182 20143.96511715\n",
            " 21941.6703523  12932.51972774 24944.56657369 22055.36479187\n",
            " 27529.57357295 32632.00001537 12096.02036944 11901.96290798\n",
            " 11029.84573329 14299.38463293 19346.56041704 13874.31681255\n",
            " 10484.1814928  14370.86394821 12404.69189456 12970.27462526\n",
            " 14029.46967661 20709.22871725 21269.30241416 14465.55066686\n",
            " 17258.42059362 16274.27230761 11941.2922215  20771.95541619\n",
            " 19453.2619758  16066.15673999 12939.85352815 14684.74872459\n",
            " 19761.76188679 15520.28561145 24746.04410108 11025.64125237\n",
            " 24376.10617933 14885.35432032 20266.86233963 16496.21653141\n",
            " 11872.32730123 14715.14004252 15148.63617617 22986.49616252\n",
            " 24385.74536618 29592.7580013  12637.95868866 17954.68050865\n",
            " 18972.7722652  20747.19083136 23453.62507391 30242.80791807\n",
            " 21079.2106953  20940.857132   31607.22870562 19453.02516126\n",
            " 26111.42734275 13076.5994119  22967.87029699 17828.69159757\n",
            " 14595.63210203 20640.44910265 17752.36114415 22790.91178576\n",
            " 11123.81830861 15028.12904188 11094.86363122 24473.38887081\n",
            " 14739.67272428 22996.87733016 10453.379917   11379.75596432\n",
            " 11934.72864803 23467.02157292 21055.13775433 18784.54986881\n",
            " 19761.76188679 16206.71625561 11968.66697825 12941.25917915\n",
            " 17476.22976798 17385.9926203  27864.33619736 28412.54477811\n",
            " 18864.1419275  15383.81303574 19982.20034831 19998.03487163\n",
            " 23736.10974197 10278.56119632 14824.35626298 21774.28887381\n",
            " 30400.12845212 14669.74009243 20094.14931245 14809.72137283\n",
            " 18792.6200145  24165.33778698 21201.43131869 13976.16994047\n",
            " 22175.52670054 14487.76434133 27275.8518086  14265.05556717\n",
            " 21131.17136916 26834.23560314 16828.68942505 22649.54531587\n",
            " 13548.22921463 19994.58822411 11379.71023597 11773.16551507\n",
            " 15224.16917719 20430.49568541 11784.46166922 11533.8443567\n",
            " 15256.88152745 26628.7779369  12128.94858019 13275.52998459\n",
            " 21520.15225981 18790.72900678 18667.53744757 13787.71841096\n",
            " 14047.78967333 23158.0538883  12714.58348497 11597.47249394\n",
            " 15306.20929205 11724.33763185 18553.99069752 11969.8427244\n",
            " 20175.49101927 20276.22984143 15089.91240002 14836.42932084\n",
            " 24021.14537452 18826.0176358  13386.86425401 11267.34023705\n",
            " 14494.76357779 27514.25350582 12698.89867315 22055.34291363\n",
            " 12215.62119851 11512.05754927 25927.84183197 23466.94847824\n",
            " 26608.54300498 13277.84978887 13347.52110163 18876.72355062\n",
            " 13683.15516678 15933.71998796 18408.82995143 14807.74975418\n",
            " 14295.43615381 13209.61929765 14310.98548012 17008.64404427\n",
            " 16706.85095914 11563.66620983 14755.54013211 18558.85238935\n",
            " 15750.31749344 17557.32546068 11934.6683986  13382.5652778\n",
            " 11785.10826902 11657.35045344 24430.45329035 20814.08763498\n",
            " 20841.40676424 16655.72236123 11480.94253128 13914.50740552\n",
            " 12348.96240825 20493.66721017 11580.15252046 11250.60048408\n",
            " 13256.42753178 30445.68895321 24569.16101846 24471.61614233\n",
            " 11029.27813368 15650.05211275 14757.7221523  19773.28976161\n",
            " 29909.37530153 18071.27155977 13165.32364692 21131.08949156\n",
            " 15125.06222788 13486.38493758 11998.5257902  16044.4869716\n",
            " 10275.49926774 20628.49457162 26008.74370273 16694.99765194\n",
            " 22696.54549393 18071.23796602 13656.79747415 13112.57444763\n",
            " 11609.96364229 21106.16042777 22440.33671943 11476.457873\n",
            " 14886.01861618 12680.36749748 22127.05983075 15586.8918915\n",
            " 13185.4733829  32347.3733554  13644.11851967 23599.81843126\n",
            " 18439.84995526 20639.02214909 17414.27766288 12524.31913244\n",
            " 12197.04177098 12714.64549278 21237.00154234 22298.61710256\n",
            " 22055.34291363 20525.39851742 12357.93809712 29524.85395201\n",
            " 14671.12259905 27773.68893355 15441.30878142 27344.05967449\n",
            " 11810.81922456 27260.66995525 16753.06279187 13996.62630632\n",
            " 13682.95817792 10237.61274491 12766.28380443 27748.74757755\n",
            " 30268.10073438 11655.61115944 13683.13744217 23361.38481306\n",
            " 11864.32490434 13532.09960251 16296.54088978 15797.38483587\n",
            " 15007.2485529  15833.4673397  15737.90452403 11934.84386855\n",
            " 15352.02034917 15056.46107513 25879.40441935 11730.69844924\n",
            " 21226.92918905 21036.44974299 29871.20495322 22153.06658351\n",
            " 14827.45138579 23957.9463356  23495.67452258 18885.09009384\n",
            " 13064.67676082 15669.39208697 12682.77230472 23466.7832162\n",
            " 23580.05894651 12329.81485985 19280.33549666 14029.36923753\n",
            " 21522.60505313 22147.6991374  14957.57545525 15027.70985486\n",
            " 11581.85304334 22867.79300573 15148.5435817  16640.97801204\n",
            " 20517.0245036  23495.93921041 13893.97878089 15301.70501489\n",
            " 18187.89506176 16210.38324342 16417.44302205 11850.05086585\n",
            " 22007.47180268 13347.52110163 23361.19109274 19899.12663156\n",
            " 14745.14555031 15534.9981221  25279.10520888 21075.03118014\n",
            " 12001.8957402  15521.74701057 16575.04666438 22981.57131864\n",
            " 12837.408982   14739.09894069 13910.82460505 13995.61105676\n",
            " 16860.79111018]\n",
            "(789,)\n"
          ]
        }
      ]
    },
    {
      "cell_type": "code",
      "source": [
        "print(\"Mean Absolute Error:\", round(metrics.mean_absolute_error(y_test, predict), 4))\n",
        "print(\"Mean Squared Error:\", round(metrics.mean_squared_error(y_test, predict), 4))\n",
        "print(\"Root Mean Squared Error:\", round(np.sqrt(metrics.mean_squared_error(y_test, predict)), 4))\n",
        "print(\"(R^2) Score:\", round(metrics.r2_score(y_test, predict), 4))\n",
        "print(f'Train Score : {model.score(X_train, y_train) * 100:.2f}% and Test Score : {model.score(X_test, y_test) * 100:.2f}% using Random Forest Regressor.')\n",
        "errors = abs(predict - y_test)\n",
        "mape = 100 * (errors / y_test)\n",
        "accuracy = 100 - np.mean(mape)\n",
        "print('Accuracy:', round(accuracy, 2), '%.') "
      ],
      "metadata": {
        "colab": {
          "base_uri": "https://localhost:8080/"
        },
        "id": "LImxKEpqDM3L",
        "outputId": "b0a6bdbf-d893-4d41-b155-f3848e0439d6"
      },
      "execution_count": 23,
      "outputs": [
        {
          "output_type": "stream",
          "name": "stdout",
          "text": [
            "Mean Absolute Error: 7.1245\n",
            "Mean Squared Error: 1004.6224\n",
            "Root Mean Squared Error: 31.6958\n",
            "(R^2) Score: 1.0\n",
            "Train Score : 100.00% and Test Score : 100.00% using Random Forest Regressor.\n",
            "Accuracy: 99.96 %.\n"
          ]
        }
      ]
    },
    {
      "cell_type": "code",
      "source": [
        "predictions = pd.DataFrame({\"Predictions\": predict}, index=pd.date_range(start=df.index[-1], periods=len(predict), freq=\"D\"))\n",
        "predictions.to_csv(\"Predicted-price-data.csv\")\n",
        "#colllects future days from predicted values\n",
        "oneyear_df = pd.DataFrame(predictions[:252])\n",
        "oneyear_df.to_csv(\"one-year-predictions.csv\")\n",
        "onemonth_df = pd.DataFrame(predictions[:21])\n",
        "onemonth_df.to_csv(\"one-month-predictions.csv\")\n",
        "fivedays_df = pd.DataFrame(predictions[:5])\n",
        "fivedays_df.to_csv(\"five-days-predictions.csv\")"
      ],
      "metadata": {
        "id": "6M_RlDDfSk-L"
      },
      "execution_count": 24,
      "outputs": []
    },
    {
      "cell_type": "code",
      "source": [
        "Predicted_price_data = pd.read_csv(\"Predicted-price-data.csv\")\n",
        "Predicted_price_data"
      ],
      "metadata": {
        "colab": {
          "base_uri": "https://localhost:8080/",
          "height": 424
        },
        "id": "qXgRmaiEbUXI",
        "outputId": "95bb2116-39e6-464e-e6fc-d3b95cb11a79"
      },
      "execution_count": 32,
      "outputs": [
        {
          "output_type": "execute_result",
          "data": {
            "text/plain": [
              "     Unnamed: 0   Predictions\n",
              "0    2022-03-31  16828.605564\n",
              "1    2022-04-01  23620.902450\n",
              "2    2022-04-02  19760.843473\n",
              "3    2022-04-03  13492.355553\n",
              "4    2022-04-04  19711.506075\n",
              "..          ...           ...\n",
              "784  2024-05-23  12837.408982\n",
              "785  2024-05-24  14739.098941\n",
              "786  2024-05-25  13910.824605\n",
              "787  2024-05-26  13995.611057\n",
              "788  2024-05-27  16860.791110\n",
              "\n",
              "[789 rows x 2 columns]"
            ],
            "text/html": [
              "\n",
              "  <div id=\"df-fcfc7ca9-258c-430a-8d84-b948d286e454\">\n",
              "    <div class=\"colab-df-container\">\n",
              "      <div>\n",
              "<style scoped>\n",
              "    .dataframe tbody tr th:only-of-type {\n",
              "        vertical-align: middle;\n",
              "    }\n",
              "\n",
              "    .dataframe tbody tr th {\n",
              "        vertical-align: top;\n",
              "    }\n",
              "\n",
              "    .dataframe thead th {\n",
              "        text-align: right;\n",
              "    }\n",
              "</style>\n",
              "<table border=\"1\" class=\"dataframe\">\n",
              "  <thead>\n",
              "    <tr style=\"text-align: right;\">\n",
              "      <th></th>\n",
              "      <th>Unnamed: 0</th>\n",
              "      <th>Predictions</th>\n",
              "    </tr>\n",
              "  </thead>\n",
              "  <tbody>\n",
              "    <tr>\n",
              "      <th>0</th>\n",
              "      <td>2022-03-31</td>\n",
              "      <td>16828.605564</td>\n",
              "    </tr>\n",
              "    <tr>\n",
              "      <th>1</th>\n",
              "      <td>2022-04-01</td>\n",
              "      <td>23620.902450</td>\n",
              "    </tr>\n",
              "    <tr>\n",
              "      <th>2</th>\n",
              "      <td>2022-04-02</td>\n",
              "      <td>19760.843473</td>\n",
              "    </tr>\n",
              "    <tr>\n",
              "      <th>3</th>\n",
              "      <td>2022-04-03</td>\n",
              "      <td>13492.355553</td>\n",
              "    </tr>\n",
              "    <tr>\n",
              "      <th>4</th>\n",
              "      <td>2022-04-04</td>\n",
              "      <td>19711.506075</td>\n",
              "    </tr>\n",
              "    <tr>\n",
              "      <th>...</th>\n",
              "      <td>...</td>\n",
              "      <td>...</td>\n",
              "    </tr>\n",
              "    <tr>\n",
              "      <th>784</th>\n",
              "      <td>2024-05-23</td>\n",
              "      <td>12837.408982</td>\n",
              "    </tr>\n",
              "    <tr>\n",
              "      <th>785</th>\n",
              "      <td>2024-05-24</td>\n",
              "      <td>14739.098941</td>\n",
              "    </tr>\n",
              "    <tr>\n",
              "      <th>786</th>\n",
              "      <td>2024-05-25</td>\n",
              "      <td>13910.824605</td>\n",
              "    </tr>\n",
              "    <tr>\n",
              "      <th>787</th>\n",
              "      <td>2024-05-26</td>\n",
              "      <td>13995.611057</td>\n",
              "    </tr>\n",
              "    <tr>\n",
              "      <th>788</th>\n",
              "      <td>2024-05-27</td>\n",
              "      <td>16860.791110</td>\n",
              "    </tr>\n",
              "  </tbody>\n",
              "</table>\n",
              "<p>789 rows × 2 columns</p>\n",
              "</div>\n",
              "      <button class=\"colab-df-convert\" onclick=\"convertToInteractive('df-fcfc7ca9-258c-430a-8d84-b948d286e454')\"\n",
              "              title=\"Convert this dataframe to an interactive table.\"\n",
              "              style=\"display:none;\">\n",
              "        \n",
              "  <svg xmlns=\"http://www.w3.org/2000/svg\" height=\"24px\"viewBox=\"0 0 24 24\"\n",
              "       width=\"24px\">\n",
              "    <path d=\"M0 0h24v24H0V0z\" fill=\"none\"/>\n",
              "    <path d=\"M18.56 5.44l.94 2.06.94-2.06 2.06-.94-2.06-.94-.94-2.06-.94 2.06-2.06.94zm-11 1L8.5 8.5l.94-2.06 2.06-.94-2.06-.94L8.5 2.5l-.94 2.06-2.06.94zm10 10l.94 2.06.94-2.06 2.06-.94-2.06-.94-.94-2.06-.94 2.06-2.06.94z\"/><path d=\"M17.41 7.96l-1.37-1.37c-.4-.4-.92-.59-1.43-.59-.52 0-1.04.2-1.43.59L10.3 9.45l-7.72 7.72c-.78.78-.78 2.05 0 2.83L4 21.41c.39.39.9.59 1.41.59.51 0 1.02-.2 1.41-.59l7.78-7.78 2.81-2.81c.8-.78.8-2.07 0-2.86zM5.41 20L4 18.59l7.72-7.72 1.47 1.35L5.41 20z\"/>\n",
              "  </svg>\n",
              "      </button>\n",
              "      \n",
              "  <style>\n",
              "    .colab-df-container {\n",
              "      display:flex;\n",
              "      flex-wrap:wrap;\n",
              "      gap: 12px;\n",
              "    }\n",
              "\n",
              "    .colab-df-convert {\n",
              "      background-color: #E8F0FE;\n",
              "      border: none;\n",
              "      border-radius: 50%;\n",
              "      cursor: pointer;\n",
              "      display: none;\n",
              "      fill: #1967D2;\n",
              "      height: 32px;\n",
              "      padding: 0 0 0 0;\n",
              "      width: 32px;\n",
              "    }\n",
              "\n",
              "    .colab-df-convert:hover {\n",
              "      background-color: #E2EBFA;\n",
              "      box-shadow: 0px 1px 2px rgba(60, 64, 67, 0.3), 0px 1px 3px 1px rgba(60, 64, 67, 0.15);\n",
              "      fill: #174EA6;\n",
              "    }\n",
              "\n",
              "    [theme=dark] .colab-df-convert {\n",
              "      background-color: #3B4455;\n",
              "      fill: #D2E3FC;\n",
              "    }\n",
              "\n",
              "    [theme=dark] .colab-df-convert:hover {\n",
              "      background-color: #434B5C;\n",
              "      box-shadow: 0px 1px 3px 1px rgba(0, 0, 0, 0.15);\n",
              "      filter: drop-shadow(0px 1px 2px rgba(0, 0, 0, 0.3));\n",
              "      fill: #FFFFFF;\n",
              "    }\n",
              "  </style>\n",
              "\n",
              "      <script>\n",
              "        const buttonEl =\n",
              "          document.querySelector('#df-fcfc7ca9-258c-430a-8d84-b948d286e454 button.colab-df-convert');\n",
              "        buttonEl.style.display =\n",
              "          google.colab.kernel.accessAllowed ? 'block' : 'none';\n",
              "\n",
              "        async function convertToInteractive(key) {\n",
              "          const element = document.querySelector('#df-fcfc7ca9-258c-430a-8d84-b948d286e454');\n",
              "          const dataTable =\n",
              "            await google.colab.kernel.invokeFunction('convertToInteractive',\n",
              "                                                     [key], {});\n",
              "          if (!dataTable) return;\n",
              "\n",
              "          const docLinkHtml = 'Like what you see? Visit the ' +\n",
              "            '<a target=\"_blank\" href=https://colab.research.google.com/notebooks/data_table.ipynb>data table notebook</a>'\n",
              "            + ' to learn more about interactive tables.';\n",
              "          element.innerHTML = '';\n",
              "          dataTable['output_type'] = 'display_data';\n",
              "          await google.colab.output.renderOutput(dataTable, element);\n",
              "          const docLink = document.createElement('div');\n",
              "          docLink.innerHTML = docLinkHtml;\n",
              "          element.appendChild(docLink);\n",
              "        }\n",
              "      </script>\n",
              "    </div>\n",
              "  </div>\n",
              "  "
            ]
          },
          "metadata": {},
          "execution_count": 32
        }
      ]
    },
    {
      "cell_type": "code",
      "source": [
        "Predicted_price_data.set_index(\"Unnamed: 0\", inplace=True)\n",
        "buy_price = min(Predicted_price_data[\"Predictions\"])\n",
        "sell_price = max(Predicted_price_data[\"Predictions\"])\n",
        "oneyear_buy = Predicted_price_data.loc[Predicted_price_data[\"Predictions\"] == buy_price]\n",
        "oneyear_sell = Predicted_price_data.loc[Predicted_price_data[\"Predictions\"] == sell_price]\n",
        "print(\"Buy price and date\")\n",
        "print(oneyear_buy)\n",
        "print(\"Sell price and date\")\n",
        "print(oneyear_sell)\n",
        "Predicted_price_data[\"Predictions\"].plot(figsize=(10, 5), title=\"Forecast for the next 1 year\", color=\"blue\")\n",
        "plt.xlabel(\"Date\")\n",
        "plt.ylabel(\"Price\")\n",
        "plt.legend()\n",
        "plt.show()"
      ],
      "metadata": {
        "colab": {
          "base_uri": "https://localhost:8080/",
          "height": 489
        },
        "id": "cZ6D-FoQfmxl",
        "outputId": "7fb67212-a91f-4b18-99ba-77b04e0f6d8c"
      },
      "execution_count": 33,
      "outputs": [
        {
          "output_type": "stream",
          "name": "stdout",
          "text": [
            "Buy price and date\n",
            "            Predictions\n",
            "Unnamed: 0             \n",
            "2022-06-12  9722.146229\n",
            "Sell price and date\n",
            "             Predictions\n",
            "Unnamed: 0              \n",
            "2023-08-06  32632.000015\n"
          ]
        },
        {
          "output_type": "display_data",
          "data": {
            "text/plain": [
              "<Figure size 720x360 with 1 Axes>"
            ],
            "image/png": "[encoded data removed]"
          },
          "metadata": {
            "needs_background": "light"
          }
        }
      ]
    },
    {
      "cell_type": "code",
      "source": [
        "oneyear_df_pred = pd.read_csv(\"one-year-predictions.csv\")\n",
        "oneyear_df_pred"
      ],
      "metadata": {
        "colab": {
          "base_uri": "https://localhost:8080/",
          "height": 424
        },
        "id": "DtrVQsQmTH2B",
        "outputId": "194635c1-f826-4597-e21b-af83c6ee7f50"
      },
      "execution_count": 26,
      "outputs": [
        {
          "output_type": "execute_result",
          "data": {
            "text/plain": [
              "     Unnamed: 0   Predictions\n",
              "0    2022-03-31  16828.605564\n",
              "1    2022-04-01  23620.902450\n",
              "2    2022-04-02  19760.843473\n",
              "3    2022-04-03  13492.355553\n",
              "4    2022-04-04  19711.506075\n",
              "..          ...           ...\n",
              "247  2022-12-03  21762.799195\n",
              "248  2022-12-04  13969.558284\n",
              "249  2022-12-05  19943.212397\n",
              "250  2022-12-06  11656.644802\n",
              "251  2022-12-07  13019.232470\n",
              "\n",
              "[252 rows x 2 columns]"
            ],
            "text/html": [
              "\n",
              "  <div id=\"df-bcaf7611-412f-46a1-8248-e7d253735503\">\n",
              "    <div class=\"colab-df-container\">\n",
              "      <div>\n",
              "<style scoped>\n",
              "    .dataframe tbody tr th:only-of-type {\n",
              "        vertical-align: middle;\n",
              "    }\n",
              "\n",
              "    .dataframe tbody tr th {\n",
              "        vertical-align: top;\n",
              "    }\n",
              "\n",
              "    .dataframe thead th {\n",
              "        text-align: right;\n",
              "    }\n",
              "</style>\n",
              "<table border=\"1\" class=\"dataframe\">\n",
              "  <thead>\n",
              "    <tr style=\"text-align: right;\">\n",
              "      <th></th>\n",
              "      <th>Unnamed: 0</th>\n",
              "      <th>Predictions</th>\n",
              "    </tr>\n",
              "  </thead>\n",
              "  <tbody>\n",
              "    <tr>\n",
              "      <th>0</th>\n",
              "      <td>2022-03-31</td>\n",
              "      <td>16828.605564</td>\n",
              "    </tr>\n",
              "    <tr>\n",
              "      <th>1</th>\n",
              "      <td>2022-04-01</td>\n",
              "      <td>23620.902450</td>\n",
              "    </tr>\n",
              "    <tr>\n",
              "      <th>2</th>\n",
              "      <td>2022-04-02</td>\n",
              "      <td>19760.843473</td>\n",
              "    </tr>\n",
              "    <tr>\n",
              "      <th>3</th>\n",
              "      <td>2022-04-03</td>\n",
              "      <td>13492.355553</td>\n",
              "    </tr>\n",
              "    <tr>\n",
              "      <th>4</th>\n",
              "      <td>2022-04-04</td>\n",
              "      <td>19711.506075</td>\n",
              "    </tr>\n",
              "    <tr>\n",
              "      <th>...</th>\n",
              "      <td>...</td>\n",
              "      <td>...</td>\n",
              "    </tr>\n",
              "    <tr>\n",
              "      <th>247</th>\n",
              "      <td>2022-12-03</td>\n",
              "      <td>21762.799195</td>\n",
              "    </tr>\n",
              "    <tr>\n",
              "      <th>248</th>\n",
              "      <td>2022-12-04</td>\n",
              "      <td>13969.558284</td>\n",
              "    </tr>\n",
              "    <tr>\n",
              "      <th>249</th>\n",
              "      <td>2022-12-05</td>\n",
              "      <td>19943.212397</td>\n",
              "    </tr>\n",
              "    <tr>\n",
              "      <th>250</th>\n",
              "      <td>2022-12-06</td>\n",
              "      <td>11656.644802</td>\n",
              "    </tr>\n",
              "    <tr>\n",
              "      <th>251</th>\n",
              "      <td>2022-12-07</td>\n",
              "      <td>13019.232470</td>\n",
              "    </tr>\n",
              "  </tbody>\n",
              "</table>\n",
              "<p>252 rows × 2 columns</p>\n",
              "</div>\n",
              "      <button class=\"colab-df-convert\" onclick=\"convertToInteractive('df-bcaf7611-412f-46a1-8248-e7d253735503')\"\n",
              "              title=\"Convert this dataframe to an interactive table.\"\n",
              "              style=\"display:none;\">\n",
              "        \n",
              "  <svg xmlns=\"http://www.w3.org/2000/svg\" height=\"24px\"viewBox=\"0 0 24 24\"\n",
              "       width=\"24px\">\n",
              "    <path d=\"M0 0h24v24H0V0z\" fill=\"none\"/>\n",
              "    <path d=\"M18.56 5.44l.94 2.06.94-2.06 2.06-.94-2.06-.94-.94-2.06-.94 2.06-2.06.94zm-11 1L8.5 8.5l.94-2.06 2.06-.94-2.06-.94L8.5 2.5l-.94 2.06-2.06.94zm10 10l.94 2.06.94-2.06 2.06-.94-2.06-.94-.94-2.06-.94 2.06-2.06.94z\"/><path d=\"M17.41 7.96l-1.37-1.37c-.4-.4-.92-.59-1.43-.59-.52 0-1.04.2-1.43.59L10.3 9.45l-7.72 7.72c-.78.78-.78 2.05 0 2.83L4 21.41c.39.39.9.59 1.41.59.51 0 1.02-.2 1.41-.59l7.78-7.78 2.81-2.81c.8-.78.8-2.07 0-2.86zM5.41 20L4 18.59l7.72-7.72 1.47 1.35L5.41 20z\"/>\n",
              "  </svg>\n",
              "      </button>\n",
              "      \n",
              "  <style>\n",
              "    .colab-df-container {\n",
              "      display:flex;\n",
              "      flex-wrap:wrap;\n",
              "      gap: 12px;\n",
              "    }\n",
              "\n",
              "    .colab-df-convert {\n",
              "      background-color: #E8F0FE;\n",
              "      border: none;\n",
              "      border-radius: 50%;\n",
              "      cursor: pointer;\n",
              "      display: none;\n",
              "      fill: #1967D2;\n",
              "      height: 32px;\n",
              "      padding: 0 0 0 0;\n",
              "      width: 32px;\n",
              "    }\n",
              "\n",
              "    .colab-df-convert:hover {\n",
              "      background-color: #E2EBFA;\n",
              "      box-shadow: 0px 1px 2px rgba(60, 64, 67, 0.3), 0px 1px 3px 1px rgba(60, 64, 67, 0.15);\n",
              "      fill: #174EA6;\n",
              "    }\n",
              "\n",
              "    [theme=dark] .colab-df-convert {\n",
              "      background-color: #3B4455;\n",
              "      fill: #D2E3FC;\n",
              "    }\n",
              "\n",
              "    [theme=dark] .colab-df-convert:hover {\n",
              "      background-color: #434B5C;\n",
              "      box-shadow: 0px 1px 3px 1px rgba(0, 0, 0, 0.15);\n",
              "      filter: drop-shadow(0px 1px 2px rgba(0, 0, 0, 0.3));\n",
              "      fill: #FFFFFF;\n",
              "    }\n",
              "  </style>\n",
              "\n",
              "      <script>\n",
              "        const buttonEl =\n",
              "          document.querySelector('#df-bcaf7611-412f-46a1-8248-e7d253735503 button.colab-df-convert');\n",
              "        buttonEl.style.display =\n",
              "          google.colab.kernel.accessAllowed ? 'block' : 'none';\n",
              "\n",
              "        async function convertToInteractive(key) {\n",
              "          const element = document.querySelector('#df-bcaf7611-412f-46a1-8248-e7d253735503');\n",
              "          const dataTable =\n",
              "            await google.colab.kernel.invokeFunction('convertToInteractive',\n",
              "                                                     [key], {});\n",
              "          if (!dataTable) return;\n",
              "\n",
              "          const docLinkHtml = 'Like what you see? Visit the ' +\n",
              "            '<a target=\"_blank\" href=https://colab.research.google.com/notebooks/data_table.ipynb>data table notebook</a>'\n",
              "            + ' to learn more about interactive tables.';\n",
              "          element.innerHTML = '';\n",
              "          dataTable['output_type'] = 'display_data';\n",
              "          await google.colab.output.renderOutput(dataTable, element);\n",
              "          const docLink = document.createElement('div');\n",
              "          docLink.innerHTML = docLinkHtml;\n",
              "          element.appendChild(docLink);\n",
              "        }\n",
              "      </script>\n",
              "    </div>\n",
              "  </div>\n",
              "  "
            ]
          },
          "metadata": {},
          "execution_count": 26
        }
      ]
    },
    {
      "cell_type": "code",
      "source": [
        "oneyear_df_pred.set_index(\"Unnamed: 0\", inplace=True)\n",
        "buy_price = min(oneyear_df_pred[\"Predictions\"])\n",
        "sell_price = max(oneyear_df_pred[\"Predictions\"])\n",
        "oneyear_buy = oneyear_df_pred.loc[oneyear_df_pred[\"Predictions\"] == buy_price]\n",
        "oneyear_sell = oneyear_df_pred.loc[oneyear_df_pred[\"Predictions\"] == sell_price]\n",
        "print(\"Buy price and date\")\n",
        "print(oneyear_buy)\n",
        "print(\"Sell price and date\")\n",
        "print(oneyear_sell)\n",
        "oneyear_df_pred[\"Predictions\"].plot(figsize=(10, 5), title=\"Forecast for the next 1 year\", color=\"blue\")\n",
        "plt.xlabel(\"Date\")\n",
        "plt.ylabel(\"Price\")\n",
        "plt.legend()\n",
        "plt.show()"
      ],
      "metadata": {
        "colab": {
          "base_uri": "https://localhost:8080/",
          "height": 489
        },
        "id": "mtbaH42dS1qC",
        "outputId": "fd11b83b-cfba-4e43-8f3c-26eae3a18e93"
      },
      "execution_count": 27,
      "outputs": [
        {
          "output_type": "stream",
          "name": "stdout",
          "text": [
            "Buy price and date\n",
            "            Predictions\n",
            "Unnamed: 0             \n",
            "2022-06-12  9722.146229\n",
            "Sell price and date\n",
            "            Predictions\n",
            "Unnamed: 0             \n",
            "2022-08-30  30372.69739\n"
          ]
        },
        {
          "output_type": "display_data",
          "data": {
            "text/plain": [
              "<Figure size 720x360 with 1 Axes>"
            ],
            "image/png": "[encoded data removed]"
          },
          "metadata": {
            "needs_background": "light"
          }
        }
      ]
    },
    {
      "cell_type": "code",
      "source": [
        "onemonth_df_pred = pd.read_csv(\"one-month-predictions.csv\")\n",
        "onemonth_df_pred"
      ],
      "metadata": {
        "colab": {
          "base_uri": "https://localhost:8080/",
          "height": 708
        },
        "id": "bT3NwvuiaNOJ",
        "outputId": "69a2e55e-0ca7-48cf-e520-dac6444f66a1"
      },
      "execution_count": 28,
      "outputs": [
        {
          "output_type": "execute_result",
          "data": {
            "text/plain": [
              "    Unnamed: 0   Predictions\n",
              "0   2022-03-31  16828.605564\n",
              "1   2022-04-01  23620.902450\n",
              "2   2022-04-02  19760.843473\n",
              "3   2022-04-03  13492.355553\n",
              "4   2022-04-04  19711.506075\n",
              "5   2022-04-05  18120.673493\n",
              "6   2022-04-06  12425.634726\n",
              "7   2022-04-07  28681.952347\n",
              "8   2022-04-08  14808.156086\n",
              "9   2022-04-09  21582.948813\n",
              "10  2022-04-10  12906.944112\n",
              "11  2022-04-11  12318.942871\n",
              "12  2022-04-12  19638.638512\n",
              "13  2022-04-13  14213.682709\n",
              "14  2022-04-14  17458.072584\n",
              "15  2022-04-15  21858.678651\n",
              "16  2022-04-16  22026.550379\n",
              "17  2022-04-17  10173.156368\n",
              "18  2022-04-18  20129.431408\n",
              "19  2022-04-19  26942.384117\n",
              "20  2022-04-20  22268.174169"
            ],
            "text/html": [
              "\n",
              "  <div id=\"df-dbbf43db-0c69-45a4-b29b-59927d2e4d50\">\n",
              "    <div class=\"colab-df-container\">\n",
              "      <div>\n",
              "<style scoped>\n",
              "    .dataframe tbody tr th:only-of-type {\n",
              "        vertical-align: middle;\n",
              "    }\n",
              "\n",
              "    .dataframe tbody tr th {\n",
              "        vertical-align: top;\n",
              "    }\n",
              "\n",
              "    .dataframe thead th {\n",
              "        text-align: right;\n",
              "    }\n",
              "</style>\n",
              "<table border=\"1\" class=\"dataframe\">\n",
              "  <thead>\n",
              "    <tr style=\"text-align: right;\">\n",
              "      <th></th>\n",
              "      <th>Unnamed: 0</th>\n",
              "      <th>Predictions</th>\n",
              "    </tr>\n",
              "  </thead>\n",
              "  <tbody>\n",
              "    <tr>\n",
              "      <th>0</th>\n",
              "      <td>2022-03-31</td>\n",
              "      <td>16828.605564</td>\n",
              "    </tr>\n",
              "    <tr>\n",
              "      <th>1</th>\n",
              "      <td>2022-04-01</td>\n",
              "      <td>23620.902450</td>\n",
              "    </tr>\n",
              "    <tr>\n",
              "      <th>2</th>\n",
              "      <td>2022-04-02</td>\n",
              "      <td>19760.843473</td>\n",
              "    </tr>\n",
              "    <tr>\n",
              "      <th>3</th>\n",
              "      <td>2022-04-03</td>\n",
              "      <td>13492.355553</td>\n",
              "    </tr>\n",
              "    <tr>\n",
              "      <th>4</th>\n",
              "      <td>2022-04-04</td>\n",
              "      <td>19711.506075</td>\n",
              "    </tr>\n",
              "    <tr>\n",
              "      <th>5</th>\n",
              "      <td>2022-04-05</td>\n",
              "      <td>18120.673493</td>\n",
              "    </tr>\n",
              "    <tr>\n",
              "      <th>6</th>\n",
              "      <td>2022-04-06</td>\n",
              "      <td>12425.634726</td>\n",
              "    </tr>\n",
              "    <tr>\n",
              "      <th>7</th>\n",
              "      <td>2022-04-07</td>\n",
              "      <td>28681.952347</td>\n",
              "    </tr>\n",
              "    <tr>\n",
              "      <th>8</th>\n",
              "      <td>2022-04-08</td>\n",
              "      <td>14808.156086</td>\n",
              "    </tr>\n",
              "    <tr>\n",
              "      <th>9</th>\n",
              "      <td>2022-04-09</td>\n",
              "      <td>21582.948813</td>\n",
              "    </tr>\n",
              "    <tr>\n",
              "      <th>10</th>\n",
              "      <td>2022-04-10</td>\n",
              "      <td>12906.944112</td>\n",
              "    </tr>\n",
              "    <tr>\n",
              "      <th>11</th>\n",
              "      <td>2022-04-11</td>\n",
              "      <td>12318.942871</td>\n",
              "    </tr>\n",
              "    <tr>\n",
              "      <th>12</th>\n",
              "      <td>2022-04-12</td>\n",
              "      <td>19638.638512</td>\n",
              "    </tr>\n",
              "    <tr>\n",
              "      <th>13</th>\n",
              "      <td>2022-04-13</td>\n",
              "      <td>14213.682709</td>\n",
              "    </tr>\n",
              "    <tr>\n",
              "      <th>14</th>\n",
              "      <td>2022-04-14</td>\n",
              "      <td>17458.072584</td>\n",
              "    </tr>\n",
              "    <tr>\n",
              "      <th>15</th>\n",
              "      <td>2022-04-15</td>\n",
              "      <td>21858.678651</td>\n",
              "    </tr>\n",
              "    <tr>\n",
              "      <th>16</th>\n",
              "      <td>2022-04-16</td>\n",
              "      <td>22026.550379</td>\n",
              "    </tr>\n",
              "    <tr>\n",
              "      <th>17</th>\n",
              "      <td>2022-04-17</td>\n",
              "      <td>10173.156368</td>\n",
              "    </tr>\n",
              "    <tr>\n",
              "      <th>18</th>\n",
              "      <td>2022-04-18</td>\n",
              "      <td>20129.431408</td>\n",
              "    </tr>\n",
              "    <tr>\n",
              "      <th>19</th>\n",
              "      <td>2022-04-19</td>\n",
              "      <td>26942.384117</td>\n",
              "    </tr>\n",
              "    <tr>\n",
              "      <th>20</th>\n",
              "      <td>2022-04-20</td>\n",
              "      <td>22268.174169</td>\n",
              "    </tr>\n",
              "  </tbody>\n",
              "</table>\n",
              "</div>\n",
              "      <button class=\"colab-df-convert\" onclick=\"convertToInteractive('df-dbbf43db-0c69-45a4-b29b-59927d2e4d50')\"\n",
              "              title=\"Convert this dataframe to an interactive table.\"\n",
              "              style=\"display:none;\">\n",
              "        \n",
              "  <svg xmlns=\"http://www.w3.org/2000/svg\" height=\"24px\"viewBox=\"0 0 24 24\"\n",
              "       width=\"24px\">\n",
              "    <path d=\"M0 0h24v24H0V0z\" fill=\"none\"/>\n",
              "    <path d=\"M18.56 5.44l.94 2.06.94-2.06 2.06-.94-2.06-.94-.94-2.06-.94 2.06-2.06.94zm-11 1L8.5 8.5l.94-2.06 2.06-.94-2.06-.94L8.5 2.5l-.94 2.06-2.06.94zm10 10l.94 2.06.94-2.06 2.06-.94-2.06-.94-.94-2.06-.94 2.06-2.06.94z\"/><path d=\"M17.41 7.96l-1.37-1.37c-.4-.4-.92-.59-1.43-.59-.52 0-1.04.2-1.43.59L10.3 9.45l-7.72 7.72c-.78.78-.78 2.05 0 2.83L4 21.41c.39.39.9.59 1.41.59.51 0 1.02-.2 1.41-.59l7.78-7.78 2.81-2.81c.8-.78.8-2.07 0-2.86zM5.41 20L4 18.59l7.72-7.72 1.47 1.35L5.41 20z\"/>\n",
              "  </svg>\n",
              "      </button>\n",
              "      \n",
              "  <style>\n",
              "    .colab-df-container {\n",
              "      display:flex;\n",
              "      flex-wrap:wrap;\n",
              "      gap: 12px;\n",
              "    }\n",
              "\n",
              "    .colab-df-convert {\n",
              "      background-color: #E8F0FE;\n",
              "      border: none;\n",
              "      border-radius: 50%;\n",
              "      cursor: pointer;\n",
              "      display: none;\n",
              "      fill: #1967D2;\n",
              "      height: 32px;\n",
              "      padding: 0 0 0 0;\n",
              "      width: 32px;\n",
              "    }\n",
              "\n",
              "    .colab-df-convert:hover {\n",
              "      background-color: #E2EBFA;\n",
              "      box-shadow: 0px 1px 2px rgba(60, 64, 67, 0.3), 0px 1px 3px 1px rgba(60, 64, 67, 0.15);\n",
              "      fill: #174EA6;\n",
              "    }\n",
              "\n",
              "    [theme=dark] .colab-df-convert {\n",
              "      background-color: #3B4455;\n",
              "      fill: #D2E3FC;\n",
              "    }\n",
              "\n",
              "    [theme=dark] .colab-df-convert:hover {\n",
              "      background-color: #434B5C;\n",
              "      box-shadow: 0px 1px 3px 1px rgba(0, 0, 0, 0.15);\n",
              "      filter: drop-shadow(0px 1px 2px rgba(0, 0, 0, 0.3));\n",
              "      fill: #FFFFFF;\n",
              "    }\n",
              "  </style>\n",
              "\n",
              "      <script>\n",
              "        const buttonEl =\n",
              "          document.querySelector('#df-dbbf43db-0c69-45a4-b29b-59927d2e4d50 button.colab-df-convert');\n",
              "        buttonEl.style.display =\n",
              "          google.colab.kernel.accessAllowed ? 'block' : 'none';\n",
              "\n",
              "        async function convertToInteractive(key) {\n",
              "          const element = document.querySelector('#df-dbbf43db-0c69-45a4-b29b-59927d2e4d50');\n",
              "          const dataTable =\n",
              "            await google.colab.kernel.invokeFunction('convertToInteractive',\n",
              "                                                     [key], {});\n",
              "          if (!dataTable) return;\n",
              "\n",
              "          const docLinkHtml = 'Like what you see? Visit the ' +\n",
              "            '<a target=\"_blank\" href=https://colab.research.google.com/notebooks/data_table.ipynb>data table notebook</a>'\n",
              "            + ' to learn more about interactive tables.';\n",
              "          element.innerHTML = '';\n",
              "          dataTable['output_type'] = 'display_data';\n",
              "          await google.colab.output.renderOutput(dataTable, element);\n",
              "          const docLink = document.createElement('div');\n",
              "          docLink.innerHTML = docLinkHtml;\n",
              "          element.appendChild(docLink);\n",
              "        }\n",
              "      </script>\n",
              "    </div>\n",
              "  </div>\n",
              "  "
            ]
          },
          "metadata": {},
          "execution_count": 28
        }
      ]
    },
    {
      "cell_type": "code",
      "source": [
        "onemonth_df_pred.set_index(\"Unnamed: 0\", inplace=True)\n",
        "buy_price = min(onemonth_df_pred[\"Predictions\"])\n",
        "sell_price = max(onemonth_df_pred[\"Predictions\"])\n",
        "onemonth_buy = onemonth_df_pred.loc[onemonth_df_pred[\"Predictions\"] == buy_price]\n",
        "onemonth_sell = onemonth_df_pred.loc[onemonth_df_pred[\"Predictions\"] == sell_price]\n",
        "print(\"Buy price and date\")\n",
        "print(onemonth_buy)\n",
        "print(\"Sell price and date\")\n",
        "print(onemonth_sell)\n",
        "onemonth_df_pred[\"Predictions\"].plot(figsize=(10, 5), title=\"Forecast for the next 1 month\", color=\"blue\")\n",
        "plt.xlabel(\"Date\")\n",
        "plt.ylabel(\"Price\")\n",
        "plt.legend()\n",
        "plt.show()"
      ],
      "metadata": {
        "colab": {
          "base_uri": "https://localhost:8080/",
          "height": 489
        },
        "id": "RXGrZnyuS70m",
        "outputId": "b868d848-072a-49b3-ecd5-634891d5de4f"
      },
      "execution_count": 29,
      "outputs": [
        {
          "output_type": "stream",
          "name": "stdout",
          "text": [
            "Buy price and date\n",
            "             Predictions\n",
            "Unnamed: 0              \n",
            "2022-04-17  10173.156368\n",
            "Sell price and date\n",
            "             Predictions\n",
            "Unnamed: 0              \n",
            "2022-04-07  28681.952347\n"
          ]
        },
        {
          "output_type": "display_data",
          "data": {
            "text/plain": [
              "<Figure size 720x360 with 1 Axes>"
            ],
            "image/png": "[encoded data removed]"
          },
          "metadata": {
            "needs_background": "light"
          }
        }
      ]
    },
    {
      "cell_type": "code",
      "source": [
        "fivedays_df_pred = pd.read_csv(\"five-days-predictions.csv\")\n",
        "fivedays_df_pred"
      ],
      "metadata": {
        "colab": {
          "base_uri": "https://localhost:8080/",
          "height": 206
        },
        "id": "sxoYBAneayYA",
        "outputId": "0450eb17-ecd8-4000-dafd-50332e0efc4e"
      },
      "execution_count": 30,
      "outputs": [
        {
          "output_type": "execute_result",
          "data": {
            "text/plain": [
              "   Unnamed: 0   Predictions\n",
              "0  2022-03-31  16828.605564\n",
              "1  2022-04-01  23620.902450\n",
              "2  2022-04-02  19760.843473\n",
              "3  2022-04-03  13492.355553\n",
              "4  2022-04-04  19711.506075"
            ],
            "text/html": [
              "\n",
              "  <div id=\"df-c9c417a7-b40a-486b-9a66-99f577054fe6\">\n",
              "    <div class=\"colab-df-container\">\n",
              "      <div>\n",
              "<style scoped>\n",
              "    .dataframe tbody tr th:only-of-type {\n",
              "        vertical-align: middle;\n",
              "    }\n",
              "\n",
              "    .dataframe tbody tr th {\n",
              "        vertical-align: top;\n",
              "    }\n",
              "\n",
              "    .dataframe thead th {\n",
              "        text-align: right;\n",
              "    }\n",
              "</style>\n",
              "<table border=\"1\" class=\"dataframe\">\n",
              "  <thead>\n",
              "    <tr style=\"text-align: right;\">\n",
              "      <th></th>\n",
              "      <th>Unnamed: 0</th>\n",
              "      <th>Predictions</th>\n",
              "    </tr>\n",
              "  </thead>\n",
              "  <tbody>\n",
              "    <tr>\n",
              "      <th>0</th>\n",
              "      <td>2022-03-31</td>\n",
              "      <td>16828.605564</td>\n",
              "    </tr>\n",
              "    <tr>\n",
              "      <th>1</th>\n",
              "      <td>2022-04-01</td>\n",
              "      <td>23620.902450</td>\n",
              "    </tr>\n",
              "    <tr>\n",
              "      <th>2</th>\n",
              "      <td>2022-04-02</td>\n",
              "      <td>19760.843473</td>\n",
              "    </tr>\n",
              "    <tr>\n",
              "      <th>3</th>\n",
              "      <td>2022-04-03</td>\n",
              "      <td>13492.355553</td>\n",
              "    </tr>\n",
              "    <tr>\n",
              "      <th>4</th>\n",
              "      <td>2022-04-04</td>\n",
              "      <td>19711.506075</td>\n",
              "    </tr>\n",
              "  </tbody>\n",
              "</table>\n",
              "</div>\n",
              "      <button class=\"colab-df-convert\" onclick=\"convertToInteractive('df-c9c417a7-b40a-486b-9a66-99f577054fe6')\"\n",
              "              title=\"Convert this dataframe to an interactive table.\"\n",
              "              style=\"display:none;\">\n",
              "        \n",
              "  <svg xmlns=\"http://www.w3.org/2000/svg\" height=\"24px\"viewBox=\"0 0 24 24\"\n",
              "       width=\"24px\">\n",
              "    <path d=\"M0 0h24v24H0V0z\" fill=\"none\"/>\n",
              "    <path d=\"M18.56 5.44l.94 2.06.94-2.06 2.06-.94-2.06-.94-.94-2.06-.94 2.06-2.06.94zm-11 1L8.5 8.5l.94-2.06 2.06-.94-2.06-.94L8.5 2.5l-.94 2.06-2.06.94zm10 10l.94 2.06.94-2.06 2.06-.94-2.06-.94-.94-2.06-.94 2.06-2.06.94z\"/><path d=\"M17.41 7.96l-1.37-1.37c-.4-.4-.92-.59-1.43-.59-.52 0-1.04.2-1.43.59L10.3 9.45l-7.72 7.72c-.78.78-.78 2.05 0 2.83L4 21.41c.39.39.9.59 1.41.59.51 0 1.02-.2 1.41-.59l7.78-7.78 2.81-2.81c.8-.78.8-2.07 0-2.86zM5.41 20L4 18.59l7.72-7.72 1.47 1.35L5.41 20z\"/>\n",
              "  </svg>\n",
              "      </button>\n",
              "      \n",
              "  <style>\n",
              "    .colab-df-container {\n",
              "      display:flex;\n",
              "      flex-wrap:wrap;\n",
              "      gap: 12px;\n",
              "    }\n",
              "\n",
              "    .colab-df-convert {\n",
              "      background-color: #E8F0FE;\n",
              "      border: none;\n",
              "      border-radius: 50%;\n",
              "      cursor: pointer;\n",
              "      display: none;\n",
              "      fill: #1967D2;\n",
              "      height: 32px;\n",
              "      padding: 0 0 0 0;\n",
              "      width: 32px;\n",
              "    }\n",
              "\n",
              "    .colab-df-convert:hover {\n",
              "      background-color: #E2EBFA;\n",
              "      box-shadow: 0px 1px 2px rgba(60, 64, 67, 0.3), 0px 1px 3px 1px rgba(60, 64, 67, 0.15);\n",
              "      fill: #174EA6;\n",
              "    }\n",
              "\n",
              "    [theme=dark] .colab-df-convert {\n",
              "      background-color: #3B4455;\n",
              "      fill: #D2E3FC;\n",
              "    }\n",
              "\n",
              "    [theme=dark] .colab-df-convert:hover {\n",
              "      background-color: #434B5C;\n",
              "      box-shadow: 0px 1px 3px 1px rgba(0, 0, 0, 0.15);\n",
              "      filter: drop-shadow(0px 1px 2px rgba(0, 0, 0, 0.3));\n",
              "      fill: #FFFFFF;\n",
              "    }\n",
              "  </style>\n",
              "\n",
              "      <script>\n",
              "        const buttonEl =\n",
              "          document.querySelector('#df-c9c417a7-b40a-486b-9a66-99f577054fe6 button.colab-df-convert');\n",
              "        buttonEl.style.display =\n",
              "          google.colab.kernel.accessAllowed ? 'block' : 'none';\n",
              "\n",
              "        async function convertToInteractive(key) {\n",
              "          const element = document.querySelector('#df-c9c417a7-b40a-486b-9a66-99f577054fe6');\n",
              "          const dataTable =\n",
              "            await google.colab.kernel.invokeFunction('convertToInteractive',\n",
              "                                                     [key], {});\n",
              "          if (!dataTable) return;\n",
              "\n",
              "          const docLinkHtml = 'Like what you see? Visit the ' +\n",
              "            '<a target=\"_blank\" href=https://colab.research.google.com/notebooks/data_table.ipynb>data table notebook</a>'\n",
              "            + ' to learn more about interactive tables.';\n",
              "          element.innerHTML = '';\n",
              "          dataTable['output_type'] = 'display_data';\n",
              "          await google.colab.output.renderOutput(dataTable, element);\n",
              "          const docLink = document.createElement('div');\n",
              "          docLink.innerHTML = docLinkHtml;\n",
              "          element.appendChild(docLink);\n",
              "        }\n",
              "      </script>\n",
              "    </div>\n",
              "  </div>\n",
              "  "
            ]
          },
          "metadata": {},
          "execution_count": 30
        }
      ]
    },
    {
      "cell_type": "code",
      "source": [
        "fivedays_df_pred.set_index(\"Unnamed: 0\", inplace=True)\n",
        "buy_price = min(fivedays_df_pred[\"Predictions\"])\n",
        "sell_price = max(fivedays_df_pred[\"Predictions\"])\n",
        "fivedays_buy = fivedays_df_pred.loc[fivedays_df_pred[\"Predictions\"] == buy_price]\n",
        "fivedays_sell = fivedays_df_pred.loc[fivedays_df_pred[\"Predictions\"] == sell_price]\n",
        "print(\"Buy price and date\")\n",
        "print(fivedays_buy)\n",
        "print(\"Sell price and date\")\n",
        "print(fivedays_sell)\n",
        "fivedays_df_pred[\"Predictions\"].plot(figsize=(10, 5), title=\"Forecast for the next 5 days\", color=\"blue\")\n",
        "plt.xlabel(\"Date\")\n",
        "plt.ylabel(\"Price\")\n",
        "plt.legend()\n",
        "plt.show()"
      ],
      "metadata": {
        "colab": {
          "base_uri": "https://localhost:8080/",
          "height": 489
        },
        "id": "UBDXy-J5TD0T",
        "outputId": "9a8c4c98-e12b-47dd-9424-42e9db77129c"
      },
      "execution_count": 31,
      "outputs": [
        {
          "output_type": "stream",
          "name": "stdout",
          "text": [
            "Buy price and date\n",
            "             Predictions\n",
            "Unnamed: 0              \n",
            "2022-04-03  13492.355553\n",
            "Sell price and date\n",
            "            Predictions\n",
            "Unnamed: 0             \n",
            "2022-04-01  23620.90245\n"
          ]
        },
        {
          "output_type": "display_data",
          "data": {
            "text/plain": [
              "<Figure size 720x360 with 1 Axes>"
            ],
            "image/png": "[encoded data removed]"
          },
          "metadata": {
            "needs_background": "light"
          }
        }
      ]
    }
  ]
}