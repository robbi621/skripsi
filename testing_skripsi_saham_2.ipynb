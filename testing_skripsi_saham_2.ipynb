{
  "nbformat": 4,
  "nbformat_minor": 0,
  "metadata": {
    "colab": {
      "provenance": [],
      "include_colab_link": true
    },
    "kernelspec": {
      "name": "python3",
      "display_name": "Python 3"
    },
    "language_info": {
      "name": "python"
    }
  },
  "cells": [
    {
      "cell_type": "markdown",
      "metadata": {
        "id": "view-in-github",
        "colab_type": "text"
      },
      "source": [
        "<a href=\"https://colab.research.google.com/github/robbi621/skripsi/blob/main/testing_skripsi_saham_2.ipynb\" target=\"_parent\"><img src=\"https://colab.research.google.com/assets/colab-badge.svg\" alt=\"Open In Colab\"/></a>"
      ]
    },
    {
      "cell_type": "code",
      "execution_count": null,
      "metadata": {
        "id": "PjOGJf42-DOt"
      },
      "outputs": [],
      "source": [
        "import datetime as dt\n",
        "import pandas as pd\n",
        "import numpy as np\n",
        "from numpy import arange\n",
        "import matplotlib.pyplot as plt\n",
        "from pandas import read_csv\n",
        "from sklearn import metrics\n",
        "from sklearn.model_selection import train_test_split\n",
        "from sklearn.ensemble import RandomForestRegressor\n",
        "from sklearn.preprocessing import StandardScaler\n",
        "from sklearn.model_selection import RandomizedSearchCV"
      ]
    },
    {
      "cell_type": "code",
      "source": [
        "!wget -O UNTR.csv https://raw.githubusercontent.com/robbi621/skripsi/main/UNTR.JK.csv"
      ],
      "metadata": {
        "colab": {
          "base_uri": "https://localhost:8080/"
        },
        "id": "Yu3K488G-rS2",
        "outputId": "e1166798-e005-447f-fa2d-67bd529bb4a2"
      },
      "execution_count": null,
      "outputs": [
        {
          "output_type": "stream",
          "name": "stdout",
          "text": [
            "--2022-10-21 09:23:05--  https://raw.githubusercontent.com/robbi621/skripsi/main/UNTR.JK.csv\n",
            "Resolving raw.githubusercontent.com (raw.githubusercontent.com)... 185.199.109.133, 185.199.110.133, 185.199.111.133, ...\n",
            "Connecting to raw.githubusercontent.com (raw.githubusercontent.com)|185.199.109.133|:443... connected.\n",
            "HTTP request sent, awaiting response... 200 OK\n",
            "Length: 254503 (249K) [text/plain]\n",
            "Saving to: ‘UNTR.csv’\n",
            "\n",
            "\rUNTR.csv              0%[                    ]       0  --.-KB/s               \rUNTR.csv            100%[===================>] 248.54K  --.-KB/s    in 0.03s   \n",
            "\n",
            "2022-10-21 09:23:05 (9.25 MB/s) - ‘UNTR.csv’ saved [254503/254503]\n",
            "\n"
          ]
        }
      ]
    },
    {
      "cell_type": "code",
      "source": [
        "read_df = pd.read_csv(\"UNTR.csv\")\n",
        "read_df.set_index(\"Date\", inplace=True)\n",
        "read_df['Adj Close'].plot()\n",
        "plt.ylabel(\"Adjusted Close Prices\")\n",
        "plt.show()"
      ],
      "metadata": {
        "colab": {
          "base_uri": "https://localhost:8080/",
          "height": 279
        },
        "id": "B251zWGF-gQT",
        "outputId": "426f4daa-a15b-43e2-9460-21055a9d3997"
      },
      "execution_count": null,
      "outputs": [
        {
          "output_type": "display_data",
          "data": {
            "text/plain": [
              "<Figure size 432x288 with 1 Axes>"
            ],
            "image/png": "[encoded data removed]"
          },
          "metadata": {
            "needs_background": "light"
          }
        }
      ]
    },
    {
      "cell_type": "code",
      "source": [
        "df = pd.read_csv(\"UNTR.csv\")\n",
        "df.set_index(\"Date\", inplace=True)\n",
        "df.dropna(inplace=True)"
      ],
      "metadata": {
        "id": "3AgTIPZSB4u9"
      },
      "execution_count": null,
      "outputs": []
    },
    {
      "cell_type": "code",
      "source": [
        "X = df.iloc[:, 0:5].values\n",
        "y = df.iloc[:, 4].values"
      ],
      "metadata": {
        "id": "5nYJdxpTB8yY"
      },
      "execution_count": null,
      "outputs": []
    },
    {
      "cell_type": "code",
      "source": [
        "X.shape"
      ],
      "metadata": {
        "colab": {
          "base_uri": "https://localhost:8080/"
        },
        "id": "TqP5h-J3CChu",
        "outputId": "766a0b83-9482-46b6-e6dd-7071748fe0d7"
      },
      "execution_count": null,
      "outputs": [
        {
          "output_type": "execute_result",
          "data": {
            "text/plain": [
              "(3034, 5)"
            ]
          },
          "metadata": {},
          "execution_count": 6
        }
      ]
    },
    {
      "cell_type": "code",
      "source": [
        "y.shape"
      ],
      "metadata": {
        "colab": {
          "base_uri": "https://localhost:8080/"
        },
        "id": "blJyOumJCarj",
        "outputId": "0e057fca-8827-4f7a-cec0-7166b0aa7cd8"
      },
      "execution_count": null,
      "outputs": [
        {
          "output_type": "execute_result",
          "data": {
            "text/plain": [
              "(3034,)"
            ]
          },
          "metadata": {},
          "execution_count": 7
        }
      ]
    },
    {
      "cell_type": "code",
      "source": [
        "training_size=int(len(X)*0.70)\n",
        "test_size=len(X)-training_size\n",
        "train_data,test_data=X[0:training_size,:],X[training_size:len(X),:1]\n",
        "print(\"train_data: \", train_data.shape)\n",
        "print(\"test_data: \", test_data.shape)"
      ],
      "metadata": {
        "id": "ImyeGC_ICh63",
        "outputId": "d31bdcc7-9671-479b-8544-e83b393eb078",
        "colab": {
          "base_uri": "https://localhost:8080/"
        }
      },
      "execution_count": null,
      "outputs": [
        {
          "output_type": "stream",
          "name": "stdout",
          "text": [
            "train_data:  (2123, 5)\n",
            "test_data:  (911, 1)\n"
          ]
        }
      ]
    },
    {
      "cell_type": "code",
      "source": [
        "# convert an array of values into a dataset matrix\n",
        "def create_dataset(dataset, time_step=1):\n",
        "    dataX, dataY = [], []\n",
        "    for i in range(len(dataset)-time_step-1):\n",
        "        a = dataset[i:(i+time_step), 0]   ###i=0, 0,1,2,3-----99   100 \n",
        "        dataX.append(a)\n",
        "        dataY.append(dataset[i + time_step, 0])\n",
        "    return np.array(dataX), np.array(dataY)"
      ],
      "metadata": {
        "id": "mZgLzqUL2Z2n"
      },
      "execution_count": null,
      "outputs": []
    },
    {
      "cell_type": "code",
      "source": [
        "time_step = 15\n",
        "X_train, y_train = create_dataset(train_data, time_step)\n",
        "X_test, y_test = create_dataset(test_data, time_step)\n",
        "\n",
        "print(\"X_train: \", X_train.shape)\n",
        "print(\"y_train: \", y_train.shape)\n",
        "print(\"X_test: \", X_test.shape)\n",
        "print(\"y_test\", y_test.shape)"
      ],
      "metadata": {
        "id": "rgVtD4eu2dCH",
        "outputId": "75f0672d-c61c-4738-c793-e2635c34d323",
        "colab": {
          "base_uri": "https://localhost:8080/"
        }
      },
      "execution_count": null,
      "outputs": [
        {
          "output_type": "stream",
          "name": "stdout",
          "text": [
            "X_train:  (2107, 15)\n",
            "y_train:  (2107,)\n",
            "X_test:  (895, 15)\n",
            "y_test (895,)\n"
          ]
        }
      ]
    },
    {
      "cell_type": "code",
      "source": [
        "scale = StandardScaler()\n",
        "X_train = scale.fit_transform(X_train)\n",
        "X_test = scale.transform(X_test)"
      ],
      "metadata": {
        "id": "SlqScWPECmlJ"
      },
      "execution_count": null,
      "outputs": []
    },
    {
      "cell_type": "code",
      "source": [
        "grid_rf = {\n",
        "'n_estimators': [20, 50, 100, 500, 1000],  \n",
        "'max_depth': np.arange(1, 15, 1),  \n",
        "'min_samples_split': [2, 10, 9], \n",
        "'min_samples_leaf': np.arange(1, 15, 2, dtype=int),  \n",
        "'bootstrap': [True, False], \n",
        "'random_state': [1, 2, 30, 42]\n",
        "}\n",
        "rscv = RandomizedSearchCV(estimator=model, param_distributions=grid_rf, cv=3, n_jobs=-1, verbose=2, n_iter=200)\n",
        "rscv_fit = rscv.fit(X_train, y_train)\n",
        "best_parameters = rscv_fit.best_params_\n",
        "print(best_parameters)"
      ],
      "metadata": {
        "colab": {
          "base_uri": "https://localhost:8080/"
        },
        "id": "S2n5lXg5CyeA",
        "outputId": "ac0c4c4b-ff51-4a7d-a486-1a670ea8be15"
      },
      "execution_count": null,
      "outputs": [
        {
          "output_type": "stream",
          "name": "stdout",
          "text": [
            "Fitting 3 folds for each of 200 candidates, totalling 600 fits\n",
            "{'random_state': 30, 'n_estimators': 50, 'min_samples_split': 9, 'min_samples_leaf': 11, 'max_depth': 7, 'bootstrap': True}\n"
          ]
        }
      ]
    },
    {
      "cell_type": "code",
      "source": [
        "model = RandomForestRegressor(n_estimators=500, random_state=42, min_samples_split=2, min_samples_leaf=1, max_depth=10, bootstrap=True)\n",
        "model.fit(X_train, y_train)\n",
        "predict = model.predict(X_test)\n",
        "print(predict)\n",
        "print(predict.shape)"
      ],
      "metadata": {
        "colab": {
          "base_uri": "https://localhost:8080/"
        },
        "id": "Ch3_7vQTDCyr",
        "outputId": "99b11825-87b3-4ac0-e1b3-7f4feec8fbdd"
      },
      "execution_count": null,
      "outputs": [
        {
          "output_type": "stream",
          "name": "stdout",
          "text": [
            "[35102.63351643 33951.52799812 34875.94567345 33621.59962549\n",
            " 34291.14765967 33656.57722189 33129.99618231 32750.29962099\n",
            " 33287.40151973 32939.10146415 32703.81490412 32400.652612\n",
            " 32424.32094634 32736.14624577 32568.56057998 32597.19613265\n",
            " 32390.01322434 32896.02141368 33280.33410152 33183.58373862\n",
            " 32957.54027171 32666.48173589 31692.50468177 32993.77805168\n",
            " 33243.61850742 32789.95993552 32596.81908563 32705.25875731\n",
            " 32328.50022836 32997.58731753 32737.35982815 32610.09450184\n",
            " 32293.52465287 31414.25981406 32259.58364059 32161.1509052\n",
            " 32568.69903307 32216.49884347 32264.95170329 32818.51961579\n",
            " 32661.22715947 32273.54329388 31334.85088509 32529.53569194\n",
            " 34135.77417016 32714.74213648 32878.87051024 33046.32873694\n",
            " 33390.88989502 32733.80099344 32824.09375075 34019.60100733\n",
            " 34777.71466755 34951.47191234 34952.12959182 33030.6859593\n",
            " 34945.02551849 34816.45549764 35183.95451975 34752.32530818\n",
            " 34470.14943703 33391.22529681 33073.42190023 33361.33893941\n",
            " 32784.94119177 31574.91076007 29784.55672439 28833.72284314\n",
            " 28891.88276377 27832.57880952 28827.00189869 29601.02995671\n",
            " 28728.7954329  28796.03467286 29578.64054883 29612.28858586\n",
            " 28934.80921093 29141.89756915 29522.86752823 29624.83158242\n",
            " 28791.60712863 29293.83123941 28783.72615971 28173.46341282\n",
            " 27874.10857504 27989.83377345 27748.89047258 27391.5913932\n",
            " 27404.31932212 27201.71362172 27536.11603828 27195.30301417\n",
            " 27390.24736058 27417.68462782 28711.16690203 28306.13841458\n",
            " 27914.75577672 28385.70924971 28282.49379172 28073.96683665\n",
            " 26437.42967879 25546.3643773  26884.78285889 27127.39109897\n",
            " 26957.4360923  26648.53002641 26016.49949858 26660.16444783\n",
            " 26702.06701744 26605.19937262 25833.39504873 25550.04496458\n",
            " 25958.80424155 25856.07951462 26211.68957885 26450.46096501\n",
            " 26618.71630267 26859.28807568 26764.94060731 25656.57477124\n",
            " 25693.40103928 24846.04143631 25059.13188761 25120.31729477\n",
            " 25097.96336175 26408.60716543 26259.34649083 26253.8331611\n",
            " 26821.86014084 27572.93187935 27256.80189466 27551.85511035\n",
            " 27768.97814419 26794.00894708 27001.54982823 27424.82154968\n",
            " 27289.8985759  26809.65894499 26046.96746104 25793.67355342\n",
            " 27112.05518941 25994.06204691 25814.85371756 25811.5961382\n",
            " 25862.04061601 27222.94214254 27343.83721397 27625.58106577\n",
            " 27574.38293265 27926.0283959  27702.83481593 27732.58666518\n",
            " 27728.90989778 27733.22176806 27323.51341656 27184.06538656\n",
            " 26905.85221533 26955.91425498 26798.15044479 26397.16439338\n",
            " 25770.47736835 25746.79765966 25790.8665233  25423.99964598\n",
            " 25660.87965868 26040.72877512 26797.16991126 27222.28770651\n",
            " 26145.71716235 25946.72772099 26456.44352378 27308.93306696\n",
            " 27326.19535156 27417.6498355  27830.52771384 27868.39392336\n",
            " 27515.84134802 27345.99577392 27206.68478151 26153.52790136\n",
            " 26905.82330571 27032.18279094 26885.16603548 26407.40244994\n",
            " 26360.87496383 25312.27131021 25613.50451426 24939.54885451\n",
            " 24794.19581135 24779.86333902 24423.90557542 24280.48841825\n",
            " 24419.21087828 25730.21541855 25068.07453007 25129.1559066\n",
            " 24369.59638788 24861.22774552 25086.92728278 25275.13753213\n",
            " 25268.93434397 25237.0838854  25183.24865972 25103.02823878\n",
            " 25051.53788303 26550.54476628 26307.46647985 26840.07451675\n",
            " 26709.50841054 27102.79096997 27016.98684852 27273.65353115\n",
            " 27212.77469453 27463.99176228 27729.96092241 27828.84928758\n",
            " 27651.37936208 28100.40367966 28242.54075852 28759.16668497\n",
            " 28297.01015675 28120.40450311 27914.35422928 28168.91932231\n",
            " 27849.02482171 28168.21920381 28082.10996774 28143.31048738\n",
            " 28181.88512835 28366.63343718 28168.93970454 28468.6610862\n",
            " 28003.0763903  27757.14821592 27261.91171879 27414.30260048\n",
            " 27043.36959779 26761.61932527 26830.37122141 25409.86271676\n",
            " 24741.04313425 24840.12045129 24176.78489095 24119.28730536\n",
            " 23671.43323844 23174.44389628 22336.40853776 23143.12433074\n",
            " 23005.20704807 22071.74891354 21780.19336704 21698.17056025\n",
            " 20648.99002419 21238.0262721  21662.23800707 20202.61859527\n",
            " 20168.90054889 19950.51630012 19927.1803047  19953.72083897\n",
            " 20994.84634766 20718.58681059 20926.66205153 20963.29265347\n",
            " 20713.86926993 20918.12157464 20475.99456479 21395.63429015\n",
            " 21717.52622254 22903.65813178 22886.29168977 22869.70022136\n",
            " 22690.24352883 22833.13047699 22872.17591592 22897.13810872\n",
            " 22325.74035096 21761.58992431 22137.26498683 21814.16493776\n",
            " 21229.08729875 21487.79017804 21212.70288787 20348.24626105\n",
            " 20709.82602251 20640.34570151 19960.63005207 20197.75793545\n",
            " 20476.56066898 20190.53068888 19943.23628561 19899.9977793\n",
            " 20136.02881327 20345.86107762 20683.66897211 20960.87687665\n",
            " 20242.48200685 20378.07990963 20956.08904995 20886.40702129\n",
            " 21660.31603717 21738.97275285 21925.49394678 21081.91775765\n",
            " 21486.63056196 21379.60213125 21804.08729017 21729.5763313\n",
            " 21736.8056763  21722.55972076 22919.18099763 22710.71849923\n",
            " 22232.66735362 23053.84675105 22895.37436447 23439.02842504\n",
            " 22835.76432425 22500.93806314 22452.72918902 22199.43723978\n",
            " 22280.41412825 22394.95407121 22134.6524769  22867.53711901\n",
            " 22974.72494437 21499.2471663  21674.99055652 20982.73568024\n",
            " 21037.29092237 21619.0631209  20935.18096339 20932.89313262\n",
            " 20936.13363703 21315.13569317 20944.17924685 21543.10983962\n",
            " 20890.08198865 20940.68560572 21275.32910872 22103.60442284\n",
            " 22150.12223203 21773.94555106 21694.39119471 21637.96741967\n",
            " 21310.50667482 21714.28229037 21782.66233736 21726.04024842\n",
            " 21490.15991285 21403.8891629  21673.43687071 21383.05644518\n",
            " 21650.92427563 21600.12725362 22333.3465913  23167.45246752\n",
            " 22539.64854051 22147.37599961 21972.70237492 21675.03610507\n",
            " 21353.61481233 20985.16057053 20729.14249365 20702.33760553\n",
            " 20162.86831268 19878.08564337 20062.80234526 19921.07871535\n",
            " 19850.07429436 19452.33408622 19397.30296102 19288.33425589\n",
            " 19132.76075603 18332.01894519 18532.12383397 17576.55435885\n",
            " 17856.32201938 17893.03832134 17403.09212746 18462.93969138\n",
            " 18506.68573659 18403.96525851 18519.51995995 18541.28530013\n",
            " 18031.28409387 17999.54669244 17910.77559555 17908.91760657\n",
            " 17311.964039   17082.98417663 17109.97499202 17849.30591895\n",
            " 18677.19494224 17921.19071067 16696.77991946 16438.52080626\n",
            " 16921.01891774 15798.90508368 15091.03349111 15439.50202311\n",
            " 14908.17141441 13936.0175244  13462.17305024 13114.34583333\n",
            " 14307.58600323 14596.779691   14709.38529834 15429.32627133\n",
            " 15200.28103141 15049.91049469 16717.47661622 16671.18173662\n",
            " 16547.4916064  17221.93142174 17670.45554619 17389.56985806\n",
            " 17224.50695769 17252.98844231 17460.45931246 18078.29389611\n",
            " 17760.56860981 16640.03471677 17297.66473178 17219.32146063\n",
            " 16847.79259635 16682.94760893 16329.29927296 16600.61397359\n",
            " 16530.64268702 15733.77146829 15489.33329575 15996.68450799\n",
            " 15536.8569209  15068.05670444 15438.35303477 16039.7311639\n",
            " 15628.30760377 15502.75503781 15259.53616723 15112.26765582\n",
            " 14313.86050875 14301.9365702  15002.96564471 15027.99439929\n",
            " 15191.94963485 15028.48646635 15312.78239524 15564.91220581\n",
            " 16726.52513325 17224.81195586 16853.18363234 17274.22148429\n",
            " 17405.8304257  17810.42341316 17164.46545383 16786.74039053\n",
            " 16712.1267093  16787.21640535 17076.10419384 17617.59453018\n",
            " 17531.7408415  17171.41240369 17020.58731102 16996.04649327\n",
            " 17082.76783181 16957.68736835 16577.36782324 16637.57855867\n",
            " 16717.67283267 17141.34833475 17083.12200341 17117.71028733\n",
            " 17217.27112462 17223.14100283 18307.3068974  18272.56488802\n",
            " 17977.46676523 18345.7874143  18261.2839401  18209.82003944\n",
            " 18285.15891743 18417.92825953 18424.21535338 19447.73997851\n",
            " 19830.83856433 19811.1243764  19420.14474574 21184.36813638\n",
            " 21515.76194898 21482.84033242 21468.09391144 20791.26429681\n",
            " 20710.67069835 21666.10195964 23239.44047235 23841.05845379\n",
            " 24290.9216333  23577.0819012  22432.86054755 22877.87207329\n",
            " 23048.16272857 23358.70725035 23187.24252443 22695.30541433\n",
            " 23477.2723054  23254.77327273 23618.63829275 23779.3599176\n",
            " 23220.56956113 23875.30270595 23509.48794742 22872.48006062\n",
            " 22796.56246171 23415.40759041 22853.11710529 21919.43105393\n",
            " 20832.34865055 22982.84106707 23345.23750258 23908.25023804\n",
            " 23898.55784111 23492.18471892 23595.84807088 22715.68570267\n",
            " 22782.25840348 22901.15818673 22980.35495349 23134.00104404\n",
            " 22901.73774439 22710.1437011  22956.32428243 22617.52120131\n",
            " 22702.70187783 22365.62629531 22213.60248607 22744.64019146\n",
            " 22783.77970103 22254.18255048 22233.5486529  22243.30161094\n",
            " 22289.7727549  21512.05119588 21785.83830722 21788.53638624\n",
            " 22295.96024818 22177.49536497 22156.88049905 21804.51701125\n",
            " 21501.188369   20886.77283075 20639.14771698 20983.59506013\n",
            " 20964.14804353 21220.97398147 20965.19438766 20947.41030352\n",
            " 20921.907245   21381.55172273 20975.01490444 21317.00933408\n",
            " 21304.89727146 20969.71016698 20991.16701024 21776.0141599\n",
            " 21424.323152   22720.76410313 22930.43544085 23863.1763329\n",
            " 23826.37212739 23800.88849818 22716.43870101 23868.73981012\n",
            " 26362.37446429 26402.78284112 26871.8032233  26953.74731156\n",
            " 26996.37774922 26607.41114214 26178.89809163 27019.61352499\n",
            " 26732.74920325 27074.11906269 27193.25115042 27066.22305031\n",
            " 27952.01858801 27358.4043204  27240.94738089 27521.04490126\n",
            " 26967.03627025 26948.17455351 26720.26250248 26715.74587624\n",
            " 25843.64016785 27060.09301419 27225.59543162 26926.81630954\n",
            " 26859.5715253  26797.69884864 26357.85777478 26341.24246273\n",
            " 26897.63650966 26069.549105   25851.25215822 25831.77034185\n",
            " 24971.43744407 24158.59556655 23872.11228625 23835.78126246\n",
            " 24005.39964114 22835.06563572 24111.48117197 22894.24994645\n",
            " 21832.28255929 23112.32388502 23689.11668898 24191.09515505\n",
            " 23825.32637397 23591.17209578 23611.68385265 23180.74270787\n",
            " 22929.85413708 22880.03527952 22946.68607935 23247.35392583\n",
            " 23198.33425465 22977.65100248 22945.9843564  22053.70897525\n",
            " 22937.39760051 23312.85704339 23572.97364379 22116.66666574\n",
            " 22155.80742442 22095.87341347 23569.59399168 22101.22798778\n",
            " 21505.50252929 21473.98428976 21312.16409218 21395.06569001\n",
            " 21366.5556784  21647.66673842 21786.99361843 21825.93922598\n",
            " 21346.64195458 20961.85023922 21531.78568381 21952.53065255\n",
            " 21841.71399302 21756.07816324 22233.22116609 22222.04370006\n",
            " 22203.90996574 22279.50842052 22419.10903488 22744.55441468\n",
            " 22924.75736122 21432.37122695 22292.12613504 22189.35366259\n",
            " 21667.38866927 22157.0933147  21783.0967497  22155.59866489\n",
            " 22305.7677634  21460.92097532 21739.35511164 21639.82661831\n",
            " 21685.28365082 21328.91596287 21568.67909473 21277.61596571\n",
            " 20995.76045231 21598.02458894 22269.504213   22061.03517366\n",
            " 22133.76728881 21658.09632933 21896.80865496 21646.20312389\n",
            " 21953.40001001 21685.38517925 22144.06408028 21773.22763926\n",
            " 21422.56967575 21704.8137036  21557.97177249 22200.63291726\n",
            " 22985.47958365 23217.44442679 23090.5458377  23048.58411648\n",
            " 22724.528189   22867.77130369 22897.74103583 22718.43706424\n",
            " 22872.35698273 22647.83779841 22185.16383992 22218.63928184\n",
            " 21833.78324472 22043.07540206 21552.10004065 21625.19982443\n",
            " 21187.5760864  21405.44134634 21330.93248919 20513.61056977\n",
            " 20455.66221964 20683.14443865 20360.60594429 20579.11667396\n",
            " 20253.28747155 20719.43128804 20374.78351038 19839.19726416\n",
            " 19573.44178624 19608.3350512  19209.07303024 18405.0080116\n",
            " 19566.86089511 19173.61169539 19117.66211463 19105.76803002\n",
            " 20090.98858046 19848.7068341  20202.62324003 19916.93045444\n",
            " 19697.03122153 20032.52216882 19537.10996141 19158.59363758\n",
            " 19135.25909919 18930.64488542 19077.55157722 18904.9704473\n",
            " 19073.11412106 19428.10271604 20823.4435373  20807.28909395\n",
            " 19982.81419666 19772.95496989 18850.74216106 19146.08785726\n",
            " 19176.14963832 18878.18985368 19206.31313112 19162.50902139\n",
            " 19436.37885905 20027.84955752 20132.28465791 19992.5444493\n",
            " 20247.99772326 21325.68041406 21645.82910608 21142.46149277\n",
            " 21026.77289816 21605.34671705 20986.55606725 20954.89702931\n",
            " 20981.29686261 21677.18030457 20918.20143507 20674.20773154\n",
            " 20729.003692   20689.07360233 21044.97968742 21657.25268636\n",
            " 22103.8811152  23040.6933932  23478.15266503 24979.56669708\n",
            " 25987.31015272 26021.39637696 26915.15244991 26825.68899201\n",
            " 24405.7402238  25791.56838392 25856.4486544  26521.552517\n",
            " 26167.81244682 26412.02612862 25681.98172338 25649.21312125\n",
            " 26394.16071519 25108.10095072 23973.23493703 24170.8178766\n",
            " 24050.05348235 24385.33313667 24571.54151042 23046.91364408\n",
            " 23827.09465366 23481.09817821 23091.0872229  23155.61729001\n",
            " 22208.79162086 22550.31021843 23413.26042684 22945.00159641\n",
            " 21947.67296071 22644.48179469 22739.12516253 22071.37644419\n",
            " 22622.59049256 23009.47504058 23010.50463261 23006.94059672\n",
            " 23000.39545862 22962.14213404 22940.59129767 22912.36426216\n",
            " 21769.57995017 21679.52681737 21398.12972856 22160.27223522\n",
            " 23403.61981048 22964.11631916 22249.44682313 23078.72132795\n",
            " 22272.14058459 22285.22111228 22922.20327668 22192.61919582\n",
            " 22201.87142139 21919.45991689 21467.0401884  21581.75437657\n",
            " 21432.74383302 22009.02599946 21744.29920105 22245.67185685\n",
            " 22104.85995415 22206.37315309 22884.01129609 22905.4522059\n",
            " 21876.39108881 22008.69245329 22012.35871787 21898.05475956\n",
            " 21899.68537609 22287.74510118 22207.20909274 22110.29718389\n",
            " 22187.8946023  22686.30345579 23423.75134311 23267.86695095\n",
            " 23366.99636608 22821.21545781 22727.47219294 23125.00447057\n",
            " 23049.17859352 22822.30127245 22681.94834754 23100.40281306\n",
            " 23361.80997083 22865.227957   22694.4294616  22941.44050512\n",
            " 22655.37314037 22706.64569392 22156.45861486 22737.07566333\n",
            " 22939.9976519  23091.07003766 23614.45168732 23956.02158193\n",
            " 23906.76658189 23728.72386846 24044.19299297 23764.23319461\n",
            " 23721.84924254 24102.52349435 24903.95239407 25199.77086698\n",
            " 25240.11235846 26254.95171495 26898.44648393 26955.98131752\n",
            " 26149.29625551 26472.96061134 25614.61895976 26477.17237477\n",
            " 24878.69998856 24447.24034089 24859.43095933 25567.6464331\n",
            " 25574.63577798 25151.96753499 25917.36404701 26544.69144127\n",
            " 26965.13914073 26752.05064567 26547.78571046]\n",
            "(895,)\n"
          ]
        }
      ]
    },
    {
      "cell_type": "code",
      "source": [
        "print(\"Mean Absolute Error:\", round(metrics.mean_absolute_error(y_test, predict), 4))\n",
        "print(\"Mean Squared Error:\", round(metrics.mean_squared_error(y_test, predict), 4))\n",
        "print(\"Root Mean Squared Error:\", round(np.sqrt(metrics.mean_squared_error(y_test, predict)), 4))\n",
        "print(\"(R^2) Score:\", round(metrics.r2_score(y_test, predict), 4))\n",
        "print(f'Train Score : {model.score(X_train, y_train) * 100:.2f}% and Test Score : {model.score(X_test, y_test) * 100:.2f}% using Random Forest Regressor.')\n",
        "errors = abs(predict - y_test)\n",
        "mape = 100 * (errors / y_test)\n",
        "accuracy = 100 - np.mean(mape)\n",
        "print('Accuracy:', round(accuracy, 2), '%.') "
      ],
      "metadata": {
        "colab": {
          "base_uri": "https://localhost:8080/"
        },
        "id": "LImxKEpqDM3L",
        "outputId": "44043523-21ae-4823-9352-bf56dbafdf7b"
      },
      "execution_count": null,
      "outputs": [
        {
          "output_type": "stream",
          "name": "stdout",
          "text": [
            "Mean Absolute Error: 440.8097\n",
            "Mean Squared Error: 341022.0661\n",
            "Root Mean Squared Error: 583.9709\n",
            "(R^2) Score: 0.9808\n",
            "Train Score : 99.76% and Test Score : 98.08% using Random Forest Regressor.\n",
            "Accuracy: 98.09 %.\n"
          ]
        }
      ]
    },
    {
      "cell_type": "code",
      "source": [
        "predictions = pd.DataFrame({\"Predictions\": predict}, index=pd.date_range(start=df.index[-1], periods=len(predict), freq=\"D\"))\n",
        "predictions.to_csv(\"Predicted-price-data.csv\")\n",
        "#colllects future days from predicted values\n",
        "oneyear_df = pd.DataFrame(predictions[:252])\n",
        "oneyear_df.to_csv(\"one-year-predictions.csv\")\n",
        "onemonth_df = pd.DataFrame(predictions[:21])\n",
        "onemonth_df.to_csv(\"one-month-predictions.csv\")\n",
        "fivedays_df = pd.DataFrame(predictions[:5])\n",
        "fivedays_df.to_csv(\"five-days-predictions.csv\")"
      ],
      "metadata": {
        "id": "6M_RlDDfSk-L"
      },
      "execution_count": null,
      "outputs": []
    },
    {
      "cell_type": "code",
      "source": [
        "oneyear_df_pred = pd.read_csv(\"one-year-predictions.csv\")\n",
        "oneyear_df_pred"
      ],
      "metadata": {
        "colab": {
          "base_uri": "https://localhost:8080/",
          "height": 424
        },
        "id": "DtrVQsQmTH2B",
        "outputId": "20d7276a-5f79-4ef5-d086-bb844ffef443"
      },
      "execution_count": null,
      "outputs": [
        {
          "output_type": "execute_result",
          "data": {
            "text/plain": [
              "     Unnamed: 0   Predictions\n",
              "0    2022-03-31  35102.633516\n",
              "1    2022-04-01  33951.527998\n",
              "2    2022-04-02  34875.945673\n",
              "3    2022-04-03  33621.599625\n",
              "4    2022-04-04  34291.147660\n",
              "..          ...           ...\n",
              "247  2022-12-03  23143.124331\n",
              "248  2022-12-04  23005.207048\n",
              "249  2022-12-05  22071.748914\n",
              "250  2022-12-06  21780.193367\n",
              "251  2022-12-07  21698.170560\n",
              "\n",
              "[252 rows x 2 columns]"
            ],
            "text/html": [
              "\n",
              "  <div id=\"df-72a12004-7cd3-4261-98ac-c84403378c87\">\n",
              "    <div class=\"colab-df-container\">\n",
              "      <div>\n",
              "<style scoped>\n",
              "    .dataframe tbody tr th:only-of-type {\n",
              "        vertical-align: middle;\n",
              "    }\n",
              "\n",
              "    .dataframe tbody tr th {\n",
              "        vertical-align: top;\n",
              "    }\n",
              "\n",
              "    .dataframe thead th {\n",
              "        text-align: right;\n",
              "    }\n",
              "</style>\n",
              "<table border=\"1\" class=\"dataframe\">\n",
              "  <thead>\n",
              "    <tr style=\"text-align: right;\">\n",
              "      <th></th>\n",
              "      <th>Unnamed: 0</th>\n",
              "      <th>Predictions</th>\n",
              "    </tr>\n",
              "  </thead>\n",
              "  <tbody>\n",
              "    <tr>\n",
              "      <th>0</th>\n",
              "      <td>2022-03-31</td>\n",
              "      <td>35102.633516</td>\n",
              "    </tr>\n",
              "    <tr>\n",
              "      <th>1</th>\n",
              "      <td>2022-04-01</td>\n",
              "      <td>33951.527998</td>\n",
              "    </tr>\n",
              "    <tr>\n",
              "      <th>2</th>\n",
              "      <td>2022-04-02</td>\n",
              "      <td>34875.945673</td>\n",
              "    </tr>\n",
              "    <tr>\n",
              "      <th>3</th>\n",
              "      <td>2022-04-03</td>\n",
              "      <td>33621.599625</td>\n",
              "    </tr>\n",
              "    <tr>\n",
              "      <th>4</th>\n",
              "      <td>2022-04-04</td>\n",
              "      <td>34291.147660</td>\n",
              "    </tr>\n",
              "    <tr>\n",
              "      <th>...</th>\n",
              "      <td>...</td>\n",
              "      <td>...</td>\n",
              "    </tr>\n",
              "    <tr>\n",
              "      <th>247</th>\n",
              "      <td>2022-12-03</td>\n",
              "      <td>23143.124331</td>\n",
              "    </tr>\n",
              "    <tr>\n",
              "      <th>248</th>\n",
              "      <td>2022-12-04</td>\n",
              "      <td>23005.207048</td>\n",
              "    </tr>\n",
              "    <tr>\n",
              "      <th>249</th>\n",
              "      <td>2022-12-05</td>\n",
              "      <td>22071.748914</td>\n",
              "    </tr>\n",
              "    <tr>\n",
              "      <th>250</th>\n",
              "      <td>2022-12-06</td>\n",
              "      <td>21780.193367</td>\n",
              "    </tr>\n",
              "    <tr>\n",
              "      <th>251</th>\n",
              "      <td>2022-12-07</td>\n",
              "      <td>21698.170560</td>\n",
              "    </tr>\n",
              "  </tbody>\n",
              "</table>\n",
              "<p>252 rows × 2 columns</p>\n",
              "</div>\n",
              "      <button class=\"colab-df-convert\" onclick=\"convertToInteractive('df-72a12004-7cd3-4261-98ac-c84403378c87')\"\n",
              "              title=\"Convert this dataframe to an interactive table.\"\n",
              "              style=\"display:none;\">\n",
              "        \n",
              "  <svg xmlns=\"http://www.w3.org/2000/svg\" height=\"24px\"viewBox=\"0 0 24 24\"\n",
              "       width=\"24px\">\n",
              "    <path d=\"M0 0h24v24H0V0z\" fill=\"none\"/>\n",
              "    <path d=\"M18.56 5.44l.94 2.06.94-2.06 2.06-.94-2.06-.94-.94-2.06-.94 2.06-2.06.94zm-11 1L8.5 8.5l.94-2.06 2.06-.94-2.06-.94L8.5 2.5l-.94 2.06-2.06.94zm10 10l.94 2.06.94-2.06 2.06-.94-2.06-.94-.94-2.06-.94 2.06-2.06.94z\"/><path d=\"M17.41 7.96l-1.37-1.37c-.4-.4-.92-.59-1.43-.59-.52 0-1.04.2-1.43.59L10.3 9.45l-7.72 7.72c-.78.78-.78 2.05 0 2.83L4 21.41c.39.39.9.59 1.41.59.51 0 1.02-.2 1.41-.59l7.78-7.78 2.81-2.81c.8-.78.8-2.07 0-2.86zM5.41 20L4 18.59l7.72-7.72 1.47 1.35L5.41 20z\"/>\n",
              "  </svg>\n",
              "      </button>\n",
              "      \n",
              "  <style>\n",
              "    .colab-df-container {\n",
              "      display:flex;\n",
              "      flex-wrap:wrap;\n",
              "      gap: 12px;\n",
              "    }\n",
              "\n",
              "    .colab-df-convert {\n",
              "      background-color: #E8F0FE;\n",
              "      border: none;\n",
              "      border-radius: 50%;\n",
              "      cursor: pointer;\n",
              "      display: none;\n",
              "      fill: #1967D2;\n",
              "      height: 32px;\n",
              "      padding: 0 0 0 0;\n",
              "      width: 32px;\n",
              "    }\n",
              "\n",
              "    .colab-df-convert:hover {\n",
              "      background-color: #E2EBFA;\n",
              "      box-shadow: 0px 1px 2px rgba(60, 64, 67, 0.3), 0px 1px 3px 1px rgba(60, 64, 67, 0.15);\n",
              "      fill: #174EA6;\n",
              "    }\n",
              "\n",
              "    [theme=dark] .colab-df-convert {\n",
              "      background-color: #3B4455;\n",
              "      fill: #D2E3FC;\n",
              "    }\n",
              "\n",
              "    [theme=dark] .colab-df-convert:hover {\n",
              "      background-color: #434B5C;\n",
              "      box-shadow: 0px 1px 3px 1px rgba(0, 0, 0, 0.15);\n",
              "      filter: drop-shadow(0px 1px 2px rgba(0, 0, 0, 0.3));\n",
              "      fill: #FFFFFF;\n",
              "    }\n",
              "  </style>\n",
              "\n",
              "      <script>\n",
              "        const buttonEl =\n",
              "          document.querySelector('#df-72a12004-7cd3-4261-98ac-c84403378c87 button.colab-df-convert');\n",
              "        buttonEl.style.display =\n",
              "          google.colab.kernel.accessAllowed ? 'block' : 'none';\n",
              "\n",
              "        async function convertToInteractive(key) {\n",
              "          const element = document.querySelector('#df-72a12004-7cd3-4261-98ac-c84403378c87');\n",
              "          const dataTable =\n",
              "            await google.colab.kernel.invokeFunction('convertToInteractive',\n",
              "                                                     [key], {});\n",
              "          if (!dataTable) return;\n",
              "\n",
              "          const docLinkHtml = 'Like what you see? Visit the ' +\n",
              "            '<a target=\"_blank\" href=https://colab.research.google.com/notebooks/data_table.ipynb>data table notebook</a>'\n",
              "            + ' to learn more about interactive tables.';\n",
              "          element.innerHTML = '';\n",
              "          dataTable['output_type'] = 'display_data';\n",
              "          await google.colab.output.renderOutput(dataTable, element);\n",
              "          const docLink = document.createElement('div');\n",
              "          docLink.innerHTML = docLinkHtml;\n",
              "          element.appendChild(docLink);\n",
              "        }\n",
              "      </script>\n",
              "    </div>\n",
              "  </div>\n",
              "  "
            ]
          },
          "metadata": {},
          "execution_count": 19
        }
      ]
    },
    {
      "cell_type": "code",
      "source": [
        "oneyear_df_pred.set_index(\"Unnamed: 0\", inplace=True)\n",
        "buy_price = min(oneyear_df_pred[\"Predictions\"])\n",
        "sell_price = max(oneyear_df_pred[\"Predictions\"])\n",
        "oneyear_buy = oneyear_df_pred.loc[oneyear_df_pred[\"Predictions\"] == buy_price]\n",
        "oneyear_sell = oneyear_df_pred.loc[oneyear_df_pred[\"Predictions\"] == sell_price]\n",
        "print(\"Buy price and date\")\n",
        "print(oneyear_buy)\n",
        "print(\"Sell price and date\")\n",
        "print(oneyear_sell)\n",
        "oneyear_df_pred[\"Predictions\"].plot(figsize=(10, 5), title=\"Forecast for the next 1 year\", color=\"blue\")\n",
        "plt.xlabel(\"Date\")\n",
        "plt.ylabel(\"Price\")\n",
        "plt.legend()\n",
        "plt.show()"
      ],
      "metadata": {
        "colab": {
          "base_uri": "https://localhost:8080/",
          "height": 489
        },
        "id": "mtbaH42dS1qC",
        "outputId": "b05b82df-1485-46e3-a22a-9f30b3aed426"
      },
      "execution_count": null,
      "outputs": [
        {
          "output_type": "stream",
          "name": "stdout",
          "text": [
            "Buy price and date\n",
            "            Predictions\n",
            "Unnamed: 0             \n",
            "2022-12-07  21698.17056\n",
            "Sell price and date\n",
            "            Predictions\n",
            "Unnamed: 0             \n",
            "2022-05-28  35183.95452\n"
          ]
        },
        {
          "output_type": "display_data",
          "data": {
            "text/plain": [
              "<Figure size 720x360 with 1 Axes>"
            ],
            "image/png": "[encoded data removed]"
          },
          "metadata": {
            "needs_background": "light"
          }
        }
      ]
    },
    {
      "cell_type": "code",
      "source": [
        "onemonth_df_pred = pd.read_csv(\"one-month-predictions.csv\")\n",
        "onemonth_df_pred"
      ],
      "metadata": {
        "colab": {
          "base_uri": "https://localhost:8080/",
          "height": 708
        },
        "id": "bT3NwvuiaNOJ",
        "outputId": "9f0d88f7-0e9a-46f4-a2fc-39ffff3f574e"
      },
      "execution_count": null,
      "outputs": [
        {
          "output_type": "execute_result",
          "data": {
            "text/plain": [
              "    Unnamed: 0   Predictions\n",
              "0   2022-03-31  35102.633516\n",
              "1   2022-04-01  33951.527998\n",
              "2   2022-04-02  34875.945673\n",
              "3   2022-04-03  33621.599625\n",
              "4   2022-04-04  34291.147660\n",
              "5   2022-04-05  33656.577222\n",
              "6   2022-04-06  33129.996182\n",
              "7   2022-04-07  32750.299621\n",
              "8   2022-04-08  33287.401520\n",
              "9   2022-04-09  32939.101464\n",
              "10  2022-04-10  32703.814904\n",
              "11  2022-04-11  32400.652612\n",
              "12  2022-04-12  32424.320946\n",
              "13  2022-04-13  32736.146246\n",
              "14  2022-04-14  32568.560580\n",
              "15  2022-04-15  32597.196133\n",
              "16  2022-04-16  32390.013224\n",
              "17  2022-04-17  32896.021414\n",
              "18  2022-04-18  33280.334102\n",
              "19  2022-04-19  33183.583739\n",
              "20  2022-04-20  32957.540272"
            ],
            "text/html": [
              "\n",
              "  <div id=\"df-c042b352-ae22-47c0-9c51-d815bc445510\">\n",
              "    <div class=\"colab-df-container\">\n",
              "      <div>\n",
              "<style scoped>\n",
              "    .dataframe tbody tr th:only-of-type {\n",
              "        vertical-align: middle;\n",
              "    }\n",
              "\n",
              "    .dataframe tbody tr th {\n",
              "        vertical-align: top;\n",
              "    }\n",
              "\n",
              "    .dataframe thead th {\n",
              "        text-align: right;\n",
              "    }\n",
              "</style>\n",
              "<table border=\"1\" class=\"dataframe\">\n",
              "  <thead>\n",
              "    <tr style=\"text-align: right;\">\n",
              "      <th></th>\n",
              "      <th>Unnamed: 0</th>\n",
              "      <th>Predictions</th>\n",
              "    </tr>\n",
              "  </thead>\n",
              "  <tbody>\n",
              "    <tr>\n",
              "      <th>0</th>\n",
              "      <td>2022-03-31</td>\n",
              "      <td>35102.633516</td>\n",
              "    </tr>\n",
              "    <tr>\n",
              "      <th>1</th>\n",
              "      <td>2022-04-01</td>\n",
              "      <td>33951.527998</td>\n",
              "    </tr>\n",
              "    <tr>\n",
              "      <th>2</th>\n",
              "      <td>2022-04-02</td>\n",
              "      <td>34875.945673</td>\n",
              "    </tr>\n",
              "    <tr>\n",
              "      <th>3</th>\n",
              "      <td>2022-04-03</td>\n",
              "      <td>33621.599625</td>\n",
              "    </tr>\n",
              "    <tr>\n",
              "      <th>4</th>\n",
              "      <td>2022-04-04</td>\n",
              "      <td>34291.147660</td>\n",
              "    </tr>\n",
              "    <tr>\n",
              "      <th>5</th>\n",
              "      <td>2022-04-05</td>\n",
              "      <td>33656.577222</td>\n",
              "    </tr>\n",
              "    <tr>\n",
              "      <th>6</th>\n",
              "      <td>2022-04-06</td>\n",
              "      <td>33129.996182</td>\n",
              "    </tr>\n",
              "    <tr>\n",
              "      <th>7</th>\n",
              "      <td>2022-04-07</td>\n",
              "      <td>32750.299621</td>\n",
              "    </tr>\n",
              "    <tr>\n",
              "      <th>8</th>\n",
              "      <td>2022-04-08</td>\n",
              "      <td>33287.401520</td>\n",
              "    </tr>\n",
              "    <tr>\n",
              "      <th>9</th>\n",
              "      <td>2022-04-09</td>\n",
              "      <td>32939.101464</td>\n",
              "    </tr>\n",
              "    <tr>\n",
              "      <th>10</th>\n",
              "      <td>2022-04-10</td>\n",
              "      <td>32703.814904</td>\n",
              "    </tr>\n",
              "    <tr>\n",
              "      <th>11</th>\n",
              "      <td>2022-04-11</td>\n",
              "      <td>32400.652612</td>\n",
              "    </tr>\n",
              "    <tr>\n",
              "      <th>12</th>\n",
              "      <td>2022-04-12</td>\n",
              "      <td>32424.320946</td>\n",
              "    </tr>\n",
              "    <tr>\n",
              "      <th>13</th>\n",
              "      <td>2022-04-13</td>\n",
              "      <td>32736.146246</td>\n",
              "    </tr>\n",
              "    <tr>\n",
              "      <th>14</th>\n",
              "      <td>2022-04-14</td>\n",
              "      <td>32568.560580</td>\n",
              "    </tr>\n",
              "    <tr>\n",
              "      <th>15</th>\n",
              "      <td>2022-04-15</td>\n",
              "      <td>32597.196133</td>\n",
              "    </tr>\n",
              "    <tr>\n",
              "      <th>16</th>\n",
              "      <td>2022-04-16</td>\n",
              "      <td>32390.013224</td>\n",
              "    </tr>\n",
              "    <tr>\n",
              "      <th>17</th>\n",
              "      <td>2022-04-17</td>\n",
              "      <td>32896.021414</td>\n",
              "    </tr>\n",
              "    <tr>\n",
              "      <th>18</th>\n",
              "      <td>2022-04-18</td>\n",
              "      <td>33280.334102</td>\n",
              "    </tr>\n",
              "    <tr>\n",
              "      <th>19</th>\n",
              "      <td>2022-04-19</td>\n",
              "      <td>33183.583739</td>\n",
              "    </tr>\n",
              "    <tr>\n",
              "      <th>20</th>\n",
              "      <td>2022-04-20</td>\n",
              "      <td>32957.540272</td>\n",
              "    </tr>\n",
              "  </tbody>\n",
              "</table>\n",
              "</div>\n",
              "      <button class=\"colab-df-convert\" onclick=\"convertToInteractive('df-c042b352-ae22-47c0-9c51-d815bc445510')\"\n",
              "              title=\"Convert this dataframe to an interactive table.\"\n",
              "              style=\"display:none;\">\n",
              "        \n",
              "  <svg xmlns=\"http://www.w3.org/2000/svg\" height=\"24px\"viewBox=\"0 0 24 24\"\n",
              "       width=\"24px\">\n",
              "    <path d=\"M0 0h24v24H0V0z\" fill=\"none\"/>\n",
              "    <path d=\"M18.56 5.44l.94 2.06.94-2.06 2.06-.94-2.06-.94-.94-2.06-.94 2.06-2.06.94zm-11 1L8.5 8.5l.94-2.06 2.06-.94-2.06-.94L8.5 2.5l-.94 2.06-2.06.94zm10 10l.94 2.06.94-2.06 2.06-.94-2.06-.94-.94-2.06-.94 2.06-2.06.94z\"/><path d=\"M17.41 7.96l-1.37-1.37c-.4-.4-.92-.59-1.43-.59-.52 0-1.04.2-1.43.59L10.3 9.45l-7.72 7.72c-.78.78-.78 2.05 0 2.83L4 21.41c.39.39.9.59 1.41.59.51 0 1.02-.2 1.41-.59l7.78-7.78 2.81-2.81c.8-.78.8-2.07 0-2.86zM5.41 20L4 18.59l7.72-7.72 1.47 1.35L5.41 20z\"/>\n",
              "  </svg>\n",
              "      </button>\n",
              "      \n",
              "  <style>\n",
              "    .colab-df-container {\n",
              "      display:flex;\n",
              "      flex-wrap:wrap;\n",
              "      gap: 12px;\n",
              "    }\n",
              "\n",
              "    .colab-df-convert {\n",
              "      background-color: #E8F0FE;\n",
              "      border: none;\n",
              "      border-radius: 50%;\n",
              "      cursor: pointer;\n",
              "      display: none;\n",
              "      fill: #1967D2;\n",
              "      height: 32px;\n",
              "      padding: 0 0 0 0;\n",
              "      width: 32px;\n",
              "    }\n",
              "\n",
              "    .colab-df-convert:hover {\n",
              "      background-color: #E2EBFA;\n",
              "      box-shadow: 0px 1px 2px rgba(60, 64, 67, 0.3), 0px 1px 3px 1px rgba(60, 64, 67, 0.15);\n",
              "      fill: #174EA6;\n",
              "    }\n",
              "\n",
              "    [theme=dark] .colab-df-convert {\n",
              "      background-color: #3B4455;\n",
              "      fill: #D2E3FC;\n",
              "    }\n",
              "\n",
              "    [theme=dark] .colab-df-convert:hover {\n",
              "      background-color: #434B5C;\n",
              "      box-shadow: 0px 1px 3px 1px rgba(0, 0, 0, 0.15);\n",
              "      filter: drop-shadow(0px 1px 2px rgba(0, 0, 0, 0.3));\n",
              "      fill: #FFFFFF;\n",
              "    }\n",
              "  </style>\n",
              "\n",
              "      <script>\n",
              "        const buttonEl =\n",
              "          document.querySelector('#df-c042b352-ae22-47c0-9c51-d815bc445510 button.colab-df-convert');\n",
              "        buttonEl.style.display =\n",
              "          google.colab.kernel.accessAllowed ? 'block' : 'none';\n",
              "\n",
              "        async function convertToInteractive(key) {\n",
              "          const element = document.querySelector('#df-c042b352-ae22-47c0-9c51-d815bc445510');\n",
              "          const dataTable =\n",
              "            await google.colab.kernel.invokeFunction('convertToInteractive',\n",
              "                                                     [key], {});\n",
              "          if (!dataTable) return;\n",
              "\n",
              "          const docLinkHtml = 'Like what you see? Visit the ' +\n",
              "            '<a target=\"_blank\" href=https://colab.research.google.com/notebooks/data_table.ipynb>data table notebook</a>'\n",
              "            + ' to learn more about interactive tables.';\n",
              "          element.innerHTML = '';\n",
              "          dataTable['output_type'] = 'display_data';\n",
              "          await google.colab.output.renderOutput(dataTable, element);\n",
              "          const docLink = document.createElement('div');\n",
              "          docLink.innerHTML = docLinkHtml;\n",
              "          element.appendChild(docLink);\n",
              "        }\n",
              "      </script>\n",
              "    </div>\n",
              "  </div>\n",
              "  "
            ]
          },
          "metadata": {},
          "execution_count": 21
        }
      ]
    },
    {
      "cell_type": "code",
      "source": [
        "onemonth_df_pred.set_index(\"Unnamed: 0\", inplace=True)\n",
        "buy_price = min(onemonth_df_pred[\"Predictions\"])\n",
        "sell_price = max(onemonth_df_pred[\"Predictions\"])\n",
        "onemonth_buy = onemonth_df_pred.loc[onemonth_df_pred[\"Predictions\"] == buy_price]\n",
        "onemonth_sell = onemonth_df_pred.loc[onemonth_df_pred[\"Predictions\"] == sell_price]\n",
        "print(\"Buy price and date\")\n",
        "print(onemonth_buy)\n",
        "print(\"Sell price and date\")\n",
        "print(onemonth_sell)\n",
        "onemonth_df_pred[\"Predictions\"].plot(figsize=(10, 5), title=\"Forecast for the next 1 month\", color=\"blue\")\n",
        "plt.xlabel(\"Date\")\n",
        "plt.ylabel(\"Price\")\n",
        "plt.legend()\n",
        "plt.show()"
      ],
      "metadata": {
        "colab": {
          "base_uri": "https://localhost:8080/",
          "height": 489
        },
        "id": "RXGrZnyuS70m",
        "outputId": "aa30da32-deba-4c42-b483-5345ff491909"
      },
      "execution_count": null,
      "outputs": [
        {
          "output_type": "stream",
          "name": "stdout",
          "text": [
            "Buy price and date\n",
            "             Predictions\n",
            "Unnamed: 0              \n",
            "2022-04-16  32390.013224\n",
            "Sell price and date\n",
            "             Predictions\n",
            "Unnamed: 0              \n",
            "2022-03-31  35102.633516\n"
          ]
        },
        {
          "output_type": "display_data",
          "data": {
            "text/plain": [
              "<Figure size 720x360 with 1 Axes>"
            ],
            "image/png": "[encoded data removed]"
          },
          "metadata": {
            "needs_background": "light"
          }
        }
      ]
    },
    {
      "cell_type": "code",
      "source": [
        "fivedays_df_pred = pd.read_csv(\"five-days-predictions.csv\")\n",
        "fivedays_df_pred"
      ],
      "metadata": {
        "colab": {
          "base_uri": "https://localhost:8080/",
          "height": 206
        },
        "id": "sxoYBAneayYA",
        "outputId": "fb8f1f30-68e1-47cb-b9b0-06daabd6cbe1"
      },
      "execution_count": null,
      "outputs": [
        {
          "output_type": "execute_result",
          "data": {
            "text/plain": [
              "   Unnamed: 0   Predictions\n",
              "0  2022-03-31  35102.633516\n",
              "1  2022-04-01  33951.527998\n",
              "2  2022-04-02  34875.945673\n",
              "3  2022-04-03  33621.599625\n",
              "4  2022-04-04  34291.147660"
            ],
            "text/html": [
              "\n",
              "  <div id=\"df-c5ca8218-8c50-4e23-b0f0-f05cfd6533bd\">\n",
              "    <div class=\"colab-df-container\">\n",
              "      <div>\n",
              "<style scoped>\n",
              "    .dataframe tbody tr th:only-of-type {\n",
              "        vertical-align: middle;\n",
              "    }\n",
              "\n",
              "    .dataframe tbody tr th {\n",
              "        vertical-align: top;\n",
              "    }\n",
              "\n",
              "    .dataframe thead th {\n",
              "        text-align: right;\n",
              "    }\n",
              "</style>\n",
              "<table border=\"1\" class=\"dataframe\">\n",
              "  <thead>\n",
              "    <tr style=\"text-align: right;\">\n",
              "      <th></th>\n",
              "      <th>Unnamed: 0</th>\n",
              "      <th>Predictions</th>\n",
              "    </tr>\n",
              "  </thead>\n",
              "  <tbody>\n",
              "    <tr>\n",
              "      <th>0</th>\n",
              "      <td>2022-03-31</td>\n",
              "      <td>35102.633516</td>\n",
              "    </tr>\n",
              "    <tr>\n",
              "      <th>1</th>\n",
              "      <td>2022-04-01</td>\n",
              "      <td>33951.527998</td>\n",
              "    </tr>\n",
              "    <tr>\n",
              "      <th>2</th>\n",
              "      <td>2022-04-02</td>\n",
              "      <td>34875.945673</td>\n",
              "    </tr>\n",
              "    <tr>\n",
              "      <th>3</th>\n",
              "      <td>2022-04-03</td>\n",
              "      <td>33621.599625</td>\n",
              "    </tr>\n",
              "    <tr>\n",
              "      <th>4</th>\n",
              "      <td>2022-04-04</td>\n",
              "      <td>34291.147660</td>\n",
              "    </tr>\n",
              "  </tbody>\n",
              "</table>\n",
              "</div>\n",
              "      <button class=\"colab-df-convert\" onclick=\"convertToInteractive('df-c5ca8218-8c50-4e23-b0f0-f05cfd6533bd')\"\n",
              "              title=\"Convert this dataframe to an interactive table.\"\n",
              "              style=\"display:none;\">\n",
              "        \n",
              "  <svg xmlns=\"http://www.w3.org/2000/svg\" height=\"24px\"viewBox=\"0 0 24 24\"\n",
              "       width=\"24px\">\n",
              "    <path d=\"M0 0h24v24H0V0z\" fill=\"none\"/>\n",
              "    <path d=\"M18.56 5.44l.94 2.06.94-2.06 2.06-.94-2.06-.94-.94-2.06-.94 2.06-2.06.94zm-11 1L8.5 8.5l.94-2.06 2.06-.94-2.06-.94L8.5 2.5l-.94 2.06-2.06.94zm10 10l.94 2.06.94-2.06 2.06-.94-2.06-.94-.94-2.06-.94 2.06-2.06.94z\"/><path d=\"M17.41 7.96l-1.37-1.37c-.4-.4-.92-.59-1.43-.59-.52 0-1.04.2-1.43.59L10.3 9.45l-7.72 7.72c-.78.78-.78 2.05 0 2.83L4 21.41c.39.39.9.59 1.41.59.51 0 1.02-.2 1.41-.59l7.78-7.78 2.81-2.81c.8-.78.8-2.07 0-2.86zM5.41 20L4 18.59l7.72-7.72 1.47 1.35L5.41 20z\"/>\n",
              "  </svg>\n",
              "      </button>\n",
              "      \n",
              "  <style>\n",
              "    .colab-df-container {\n",
              "      display:flex;\n",
              "      flex-wrap:wrap;\n",
              "      gap: 12px;\n",
              "    }\n",
              "\n",
              "    .colab-df-convert {\n",
              "      background-color: #E8F0FE;\n",
              "      border: none;\n",
              "      border-radius: 50%;\n",
              "      cursor: pointer;\n",
              "      display: none;\n",
              "      fill: #1967D2;\n",
              "      height: 32px;\n",
              "      padding: 0 0 0 0;\n",
              "      width: 32px;\n",
              "    }\n",
              "\n",
              "    .colab-df-convert:hover {\n",
              "      background-color: #E2EBFA;\n",
              "      box-shadow: 0px 1px 2px rgba(60, 64, 67, 0.3), 0px 1px 3px 1px rgba(60, 64, 67, 0.15);\n",
              "      fill: #174EA6;\n",
              "    }\n",
              "\n",
              "    [theme=dark] .colab-df-convert {\n",
              "      background-color: #3B4455;\n",
              "      fill: #D2E3FC;\n",
              "    }\n",
              "\n",
              "    [theme=dark] .colab-df-convert:hover {\n",
              "      background-color: #434B5C;\n",
              "      box-shadow: 0px 1px 3px 1px rgba(0, 0, 0, 0.15);\n",
              "      filter: drop-shadow(0px 1px 2px rgba(0, 0, 0, 0.3));\n",
              "      fill: #FFFFFF;\n",
              "    }\n",
              "  </style>\n",
              "\n",
              "      <script>\n",
              "        const buttonEl =\n",
              "          document.querySelector('#df-c5ca8218-8c50-4e23-b0f0-f05cfd6533bd button.colab-df-convert');\n",
              "        buttonEl.style.display =\n",
              "          google.colab.kernel.accessAllowed ? 'block' : 'none';\n",
              "\n",
              "        async function convertToInteractive(key) {\n",
              "          const element = document.querySelector('#df-c5ca8218-8c50-4e23-b0f0-f05cfd6533bd');\n",
              "          const dataTable =\n",
              "            await google.colab.kernel.invokeFunction('convertToInteractive',\n",
              "                                                     [key], {});\n",
              "          if (!dataTable) return;\n",
              "\n",
              "          const docLinkHtml = 'Like what you see? Visit the ' +\n",
              "            '<a target=\"_blank\" href=https://colab.research.google.com/notebooks/data_table.ipynb>data table notebook</a>'\n",
              "            + ' to learn more about interactive tables.';\n",
              "          element.innerHTML = '';\n",
              "          dataTable['output_type'] = 'display_data';\n",
              "          await google.colab.output.renderOutput(dataTable, element);\n",
              "          const docLink = document.createElement('div');\n",
              "          docLink.innerHTML = docLinkHtml;\n",
              "          element.appendChild(docLink);\n",
              "        }\n",
              "      </script>\n",
              "    </div>\n",
              "  </div>\n",
              "  "
            ]
          },
          "metadata": {},
          "execution_count": 23
        }
      ]
    },
    {
      "cell_type": "code",
      "source": [
        "fivedays_df_pred.set_index(\"Unnamed: 0\", inplace=True)\n",
        "buy_price = min(fivedays_df_pred[\"Predictions\"])\n",
        "sell_price = max(fivedays_df_pred[\"Predictions\"])\n",
        "fivedays_buy = fivedays_df_pred.loc[fivedays_df_pred[\"Predictions\"] == buy_price]\n",
        "fivedays_sell = fivedays_df_pred.loc[fivedays_df_pred[\"Predictions\"] == sell_price]\n",
        "print(\"Buy price and date\")\n",
        "print(fivedays_buy)\n",
        "print(\"Sell price and date\")\n",
        "print(fivedays_sell)\n",
        "fivedays_df_pred[\"Predictions\"].plot(figsize=(10, 5), title=\"Forecast for the next 5 days\", color=\"blue\")\n",
        "plt.xlabel(\"Date\")\n",
        "plt.ylabel(\"Price\")\n",
        "plt.legend()\n",
        "plt.show()"
      ],
      "metadata": {
        "colab": {
          "base_uri": "https://localhost:8080/",
          "height": 489
        },
        "id": "UBDXy-J5TD0T",
        "outputId": "90881142-87c7-45fe-fd5d-af425f038aa3"
      },
      "execution_count": null,
      "outputs": [
        {
          "output_type": "stream",
          "name": "stdout",
          "text": [
            "Buy price and date\n",
            "             Predictions\n",
            "Unnamed: 0              \n",
            "2022-04-03  33621.599625\n",
            "Sell price and date\n",
            "             Predictions\n",
            "Unnamed: 0              \n",
            "2022-03-31  35102.633516\n"
          ]
        },
        {
          "output_type": "display_data",
          "data": {
            "text/plain": [
              "<Figure size 720x360 with 1 Axes>"
            ],
            "image/png": "[encoded data removed]"
          },
          "metadata": {
            "needs_background": "light"
          }
        }
      ]
    }
  ]
}